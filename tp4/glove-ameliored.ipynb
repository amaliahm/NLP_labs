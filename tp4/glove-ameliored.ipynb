{
 "cells": [
  {
   "cell_type": "code",
   "execution_count": null,
   "metadata": {
    "colab": {
     "base_uri": "https://localhost:8080/"
    },
    "id": "K41zj5wEm3yP",
    "outputId": "4a43ab5b-fdfa-4e97-8419-cee2c4af84e3"
   },
   "outputs": [
    {
     "name": "stdout",
     "output_type": "stream",
     "text": [
      "Epoch 1/10\n",
      "395/395 [==============================] - 77s 183ms/step - loss: 0.1806 - accuracy: 0.9607 - val_loss: 0.0910 - val_accuracy: 0.9736\n",
      "Epoch 2/10\n",
      "395/395 [==============================] - 72s 184ms/step - loss: 0.0798 - accuracy: 0.9768 - val_loss: 0.0677 - val_accuracy: 0.9803\n",
      "Epoch 3/10\n",
      "395/395 [==============================] - 72s 183ms/step - loss: 0.0640 - accuracy: 0.9813 - val_loss: 0.0596 - val_accuracy: 0.9821\n",
      "Epoch 4/10\n",
      "395/395 [==============================] - 69s 174ms/step - loss: 0.0550 - accuracy: 0.9839 - val_loss: 0.0519 - val_accuracy: 0.9846\n",
      "Epoch 5/10\n",
      "395/395 [==============================] - 71s 180ms/step - loss: 0.0490 - accuracy: 0.9853 - val_loss: 0.0468 - val_accuracy: 0.9860\n",
      "Epoch 6/10\n",
      "395/395 [==============================] - 77s 194ms/step - loss: 0.0452 - accuracy: 0.9867 - val_loss: 0.0440 - val_accuracy: 0.9868\n",
      "Epoch 7/10\n",
      "395/395 [==============================] - 68s 173ms/step - loss: 0.0415 - accuracy: 0.9875 - val_loss: 0.0420 - val_accuracy: 0.9873\n",
      "Epoch 8/10\n",
      "395/395 [==============================] - 69s 175ms/step - loss: 0.0393 - accuracy: 0.9881 - val_loss: 0.0426 - val_accuracy: 0.9872\n",
      "Epoch 9/10\n",
      "395/395 [==============================] - 70s 176ms/step - loss: 0.0370 - accuracy: 0.9888 - val_loss: 0.0402 - val_accuracy: 0.9883\n",
      "Epoch 10/10\n",
      "395/395 [==============================] - 69s 176ms/step - loss: 0.0355 - accuracy: 0.9892 - val_loss: 0.0402 - val_accuracy: 0.9882\n"
     ]
    },
    {
     "data": {
      "text/plain": [
       "<keras.callbacks.History at 0x7ff59c7c1210>"
      ]
     },
     "execution_count": 12,
     "metadata": {},
     "output_type": "execute_result"
    }
   ],
   "source": [
    "from tensorflow.keras.layers import Input, Embedding, Bidirectional, LSTM, Dropout, TimeDistributed, Dense\n",
    "from tensorflow.keras.models import Model\n",
    "from tensorflow.keras.optimizers import Adam\n",
    "from tensorflow.keras.callbacks import EarlyStopping\n",
    "import numpy as np\n",
    "from sklearn.metrics import f1_score\n",
    "\n",
    "\n",
    "def load_data(file_path):\n",
    "    with open(file_path, \"r\") as f:\n",
    "        lines = f.readlines()\n",
    "\n",
    "    sentences, labels = [], []\n",
    "    sentence, label = [], []\n",
    "\n",
    "    for line in lines:\n",
    "        if line == \"\\n\" or line.startswith(\"-DOCSTART-\"):\n",
    "            if sentence and label:\n",
    "                sentences.append(sentence)\n",
    "                labels.append(label)\n",
    "                sentence, label = [], []\n",
    "        else:\n",
    "            word, _, _, tag = line.strip().split()\n",
    "            sentence.append(word.lower())  # Normalize the case\n",
    "            label.append(tag)\n",
    "\n",
    "    return sentences, labels\n",
    "\n",
    "train_file_path = \"data/conllpp_train.txt\"\n",
    "test_file_path = \"data/conllpp_test.txt\"\n",
    "\n",
    "train_sentences, train_labels = load_data(train_file_path)\n",
    "test_sentences, test_labels = load_data(test_file_path)\n",
    "\n",
    "# Load pre-trained word embeddings\n",
    "embeddings_index = {}\n",
    "with open('glove.6B.100d.txt', encoding='utf-8') as f:\n",
    "    for line in f:\n",
    "        values = line.split()\n",
    "        word = values[0]\n",
    "        coefs = np.asarray(values[1:], dtype='float32')\n",
    "        embeddings_index[word] = coefs\n",
    "\n",
    "# Create word-to-index and tag-to-index dictionaries\n",
    "words = list(set([word for sentence in train_sentences + test_sentences for word in sentence]))\n",
    "words.append('ENDPAD')\n",
    "n_words = len(words)\n",
    "tags = list(set([tag for label in train_labels + test_labels for tag in label]))\n",
    "n_tags = len(tags)\n",
    "\n",
    "word_index = {w: i for i, w in enumerate(words)}\n",
    "label_index = {t: i for i, t in enumerate(tags)}\n",
    "\n",
    "# Convert words and tags to sequences of indices\n",
    "X_train = [[word_index[w] for w in sentence] for sentence in train_sentences]\n",
    "X_train = pad_sequences(maxlen=50, sequences=X_train, padding='post', value=n_words-1)\n",
    "y_train = [[label_index[t] for t in label] for label in train_labels]\n",
    "y_train = pad_sequences(maxlen=50, sequences=y_train, padding='post', value=label_index['O'])\n",
    "y_train = [to_categorical(i, num_classes=n_tags) for i in y_train]\n",
    "\n",
    "X_test = [[word_index[w] for w in sentence] for sentence in test_sentences]\n",
    "X_test = pad_sequences(maxlen=50, sequences=X_test, padding='post', value=n_words-1)\n",
    "y_test = [[label_index[t] for t in label] for label in test_labels]\n",
    "y_test = pad_sequences(maxlen=50, sequences=y_test, padding='post', value=label_index['O'])\n",
    "y_test = [to_categorical(i, num_classes=n_tags) for i in y_test]\n",
    "\n",
    "max_len  = 50\n",
    "# Load pre-trained word embeddings\n",
    "embeddings_index = {}\n",
    "with open('glove.6B.100d.txt', encoding='utf-8') as f:\n",
    "    for line in f:\n",
    "        values = line.split()\n",
    "        word = values[0]\n",
    "        coefs = np.asarray(values[1:], dtype='float32')\n",
    "        embeddings_index[word] = coefs\n",
    "\n",
    "# Create embedding matrix\n",
    "embedding_dim = 100\n",
    "embedding_matrix = np.zeros((len(word_index) + 1, embedding_dim))\n",
    "for word, i in word_index.items():\n",
    "    embedding_vector = embeddings_index.get(word)\n",
    "    if embedding_vector is not None:\n",
    "        embedding_matrix[i] = embedding_vector\n",
    "\n",
    "# Define model architecture\n",
    "input_layer = Input(shape=(50,))\n",
    "embedding_layer = Embedding(len(word_index) + 1, embedding_dim, weights=[embedding_matrix], input_length=max_len, trainable=False)(input_layer)\n",
    "dropout_layer = Dropout(0.5)(embedding_layer)\n",
    "bidirectional_layer = Bidirectional(LSTM(128, return_sequences=True))(dropout_layer)\n",
    "output_layer = TimeDistributed(Dense(len(label_index), activation='softmax'))(bidirectional_layer)\n",
    "model = Model(inputs=input_layer, outputs=output_layer)\n",
    "\n",
    "# Compile model\n",
    "model.compile(optimizer=Adam(), loss='categorical_crossentropy', metrics=['accuracy'])\n",
    "\n",
    "# Train model\n",
    "early_stopping = EarlyStopping(monitor='val_loss', patience=3)\n",
    "model.fit(X_train, np.array(y_train), validation_split=0.1, batch_size=32, epochs=10, callbacks=[early_stopping])\n",
    "\n",
    "# # Evaluate model\n",
    "# y_pred = model.predict(X_test)\n",
    "# y_pred = np.argmax(y_pred, axis=-1)\n",
    "# y_test_labels = [[tags[i] for i in row] for row in np.argmax(y_test, axis=-1)]\n",
    "# y_pred_labels = [[tags[i] for i in row] for row in y_pred]\n",
    "# f1 = f1_score(y_test_labels, y_pred_labels, average='weighted')\n",
    "# print(\"F1-score: {:.2f}\".format(f1))\n"
   ]
  },
  {
   "cell_type": "code",
   "execution_count": null,
   "metadata": {
    "colab": {
     "base_uri": "https://localhost:8080/"
    },
    "id": "EQZEwFRXndWq",
    "outputId": "d0b9820d-f50d-4435-b2ed-454b0ea40191"
   },
   "outputs": [
    {
     "name": "stdout",
     "output_type": "stream",
     "text": [
      "108/108 [==============================] - 11s 85ms/step\n",
      "              precision    recall  f1-score   support\n",
      "\n",
      "       B-LOC       0.86      0.75      0.80      1630\n",
      "      B-MISC       0.82      0.68      0.74       721\n",
      "       B-ORG       0.69      0.65      0.67      1708\n",
      "       B-PER       0.91      0.53      0.67      1579\n",
      "       I-LOC       0.71      0.58      0.64       258\n",
      "      I-MISC       0.68      0.46      0.55       252\n",
      "       I-ORG       0.51      0.60      0.55       880\n",
      "       I-PER       0.93      0.61      0.73      1119\n",
      "           O       0.99      1.00      0.99    164453\n",
      "\n",
      "    accuracy                           0.98    172600\n",
      "   macro avg       0.79      0.65      0.71    172600\n",
      "weighted avg       0.98      0.98      0.98    172600\n",
      "\n"
     ]
    }
   ],
   "source": [
    "from sklearn.metrics import classification_report\n",
    "# Evaluate model\n",
    "y_pred = model.predict(X_test)\n",
    "y_pred = np.argmax(y_pred, axis=-1)\n",
    "y_test_labels = [[tags[i] for i in row] for row in np.argmax(y_test, axis=-1)]\n",
    "y_pred_labels = [[tags[i] for i in row] for row in y_pred]\n",
    "\n",
    "\n",
    "# Print classification report\n",
    "report = classification_report(y_test_labels_flat, y_pred_labels_flat)\n",
    "print(report)\n"
   ]
  }
 ],
 "metadata": {
  "accelerator": "TPU",
  "colab": {
   "gpuType": "T4",
   "provenance": []
  },
  "gpuClass": "standard",
  "kernelspec": {
   "display_name": "Python 3 (ipykernel)",
   "language": "python",
   "name": "python3"
  },
  "language_info": {
   "codemirror_mode": {
    "name": "ipython",
    "version": 3
   },
   "file_extension": ".py",
   "mimetype": "text/x-python",
   "name": "python",
   "nbconvert_exporter": "python",
   "pygments_lexer": "ipython3",
   "version": "3.10.7"
  }
 },
 "nbformat": 4,
 "nbformat_minor": 1
}
