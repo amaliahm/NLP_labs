{
 "cells": [
  {
   "cell_type": "markdown",
   "id": "f11f7bcb",
   "metadata": {},
   "source": [
    "# feature extraction and embeddings"
   ]
  },
  {
   "cell_type": "code",
   "execution_count": 13,
   "id": "9662dfb3",
   "metadata": {},
   "outputs": [],
   "source": [
    "from sklearn.feature_extraction.text import CountVectorizer, TfidfVectorizer\n",
    "from sklearn.model_selection import GridSearchCV, cross_val_score\n",
    "from sklearn.metrics import classification_report, accuracy_score\n",
    "from sklearn.preprocessing import OneHotEncoder, LabelEncoder\n",
    "from sklearn.feature_extraction.text import CountVectorizer\n",
    "from sklearn.model_selection import train_test_split\n",
    "from gensim.models.keyedvectors import KeyedVectors\n",
    "from sklearn.preprocessing import StandardScaler\n",
    "from sklearn.neural_network import MLPClassifier\n",
    "from gensim.models import Word2Vec, FastText\n",
    "from nltk.tokenize import word_tokenize\n",
    "from sklearn.pipeline import Pipeline\n",
    "from collections import defaultdict\n",
    "from sklearn.svm import LinearSVC\n",
    "import pandas as pd\n",
    "import numpy as np\n",
    "import random\n",
    "import time"
   ]
  },
  {
   "cell_type": "markdown",
   "id": "3ccbee45",
   "metadata": {},
   "source": [
    "## A. preparation de donnees"
   ]
  },
  {
   "cell_type": "code",
   "execution_count": 14,
   "id": "09f9e7a5",
   "metadata": {},
   "outputs": [],
   "source": [
    "df = pd.read_csv('./spooky.csv')"
   ]
  },
  {
   "cell_type": "code",
   "execution_count": 15,
   "id": "85ae625c-af86-4662-8f70-f3ee19462663",
   "metadata": {},
   "outputs": [
    {
     "data": {
      "text/html": [
       "<div>\n",
       "<style scoped>\n",
       "    .dataframe tbody tr th:only-of-type {\n",
       "        vertical-align: middle;\n",
       "    }\n",
       "\n",
       "    .dataframe tbody tr th {\n",
       "        vertical-align: top;\n",
       "    }\n",
       "\n",
       "    .dataframe thead th {\n",
       "        text-align: right;\n",
       "    }\n",
       "</style>\n",
       "<table border=\"1\" class=\"dataframe\">\n",
       "  <thead>\n",
       "    <tr style=\"text-align: right;\">\n",
       "      <th></th>\n",
       "      <th>id</th>\n",
       "      <th>text</th>\n",
       "      <th>author</th>\n",
       "    </tr>\n",
       "  </thead>\n",
       "  <tbody>\n",
       "    <tr>\n",
       "      <th>0</th>\n",
       "      <td>id26305</td>\n",
       "      <td>this proces however afforded me no means of as...</td>\n",
       "      <td>EAP</td>\n",
       "    </tr>\n",
       "    <tr>\n",
       "      <th>1</th>\n",
       "      <td>id17569</td>\n",
       "      <td>it never once occurred to me that the fumbling...</td>\n",
       "      <td>HPL</td>\n",
       "    </tr>\n",
       "    <tr>\n",
       "      <th>2</th>\n",
       "      <td>id11008</td>\n",
       "      <td>in his left hand was a gold snuff box from whi...</td>\n",
       "      <td>EAP</td>\n",
       "    </tr>\n",
       "    <tr>\n",
       "      <th>3</th>\n",
       "      <td>id27763</td>\n",
       "      <td>how lovely is spring as we looked from windsor...</td>\n",
       "      <td>MWS</td>\n",
       "    </tr>\n",
       "    <tr>\n",
       "      <th>4</th>\n",
       "      <td>id12958</td>\n",
       "      <td>finding nothing else not even gold the superin...</td>\n",
       "      <td>HPL</td>\n",
       "    </tr>\n",
       "  </tbody>\n",
       "</table>\n",
       "</div>"
      ],
      "text/plain": [
       "        id                                               text author\n",
       "0  id26305  this proces however afforded me no means of as...    EAP\n",
       "1  id17569  it never once occurred to me that the fumbling...    HPL\n",
       "2  id11008  in his left hand was a gold snuff box from whi...    EAP\n",
       "3  id27763  how lovely is spring as we looked from windsor...    MWS\n",
       "4  id12958  finding nothing else not even gold the superin...    HPL"
      ]
     },
     "execution_count": 15,
     "metadata": {},
     "output_type": "execute_result"
    }
   ],
   "source": [
    "df.head()"
   ]
  },
  {
   "cell_type": "code",
   "execution_count": 16,
   "id": "281c849d",
   "metadata": {},
   "outputs": [
    {
     "data": {
      "text/plain": [
       "0"
      ]
     },
     "execution_count": 16,
     "metadata": {},
     "output_type": "execute_result"
    }
   ],
   "source": [
    "df['text'].isnull().sum()"
   ]
  },
  {
   "cell_type": "markdown",
   "id": "218f3f87",
   "metadata": {},
   "source": [
    "## B. encodage de la variable a predire (facultatif)"
   ]
  },
  {
   "cell_type": "code",
   "execution_count": 17,
   "id": "67a2c53f",
   "metadata": {},
   "outputs": [],
   "source": [
    "label_encoder = LabelEncoder()\n",
    "df['author_encoded'] = label_encoder.fit_transform(df['author'])"
   ]
  },
  {
   "cell_type": "code",
   "execution_count": 18,
   "id": "fac1cc25-94ba-4d9f-b30b-d36fd365b4b1",
   "metadata": {},
   "outputs": [
    {
     "data": {
      "text/html": [
       "<div>\n",
       "<style scoped>\n",
       "    .dataframe tbody tr th:only-of-type {\n",
       "        vertical-align: middle;\n",
       "    }\n",
       "\n",
       "    .dataframe tbody tr th {\n",
       "        vertical-align: top;\n",
       "    }\n",
       "\n",
       "    .dataframe thead th {\n",
       "        text-align: right;\n",
       "    }\n",
       "</style>\n",
       "<table border=\"1\" class=\"dataframe\">\n",
       "  <thead>\n",
       "    <tr style=\"text-align: right;\">\n",
       "      <th></th>\n",
       "      <th>id</th>\n",
       "      <th>text</th>\n",
       "      <th>author</th>\n",
       "      <th>author_encoded</th>\n",
       "    </tr>\n",
       "  </thead>\n",
       "  <tbody>\n",
       "    <tr>\n",
       "      <th>0</th>\n",
       "      <td>id26305</td>\n",
       "      <td>this proces however afforded me no means of as...</td>\n",
       "      <td>EAP</td>\n",
       "      <td>0</td>\n",
       "    </tr>\n",
       "    <tr>\n",
       "      <th>1</th>\n",
       "      <td>id17569</td>\n",
       "      <td>it never once occurred to me that the fumbling...</td>\n",
       "      <td>HPL</td>\n",
       "      <td>1</td>\n",
       "    </tr>\n",
       "    <tr>\n",
       "      <th>2</th>\n",
       "      <td>id11008</td>\n",
       "      <td>in his left hand was a gold snuff box from whi...</td>\n",
       "      <td>EAP</td>\n",
       "      <td>0</td>\n",
       "    </tr>\n",
       "    <tr>\n",
       "      <th>3</th>\n",
       "      <td>id27763</td>\n",
       "      <td>how lovely is spring as we looked from windsor...</td>\n",
       "      <td>MWS</td>\n",
       "      <td>2</td>\n",
       "    </tr>\n",
       "    <tr>\n",
       "      <th>4</th>\n",
       "      <td>id12958</td>\n",
       "      <td>finding nothing else not even gold the superin...</td>\n",
       "      <td>HPL</td>\n",
       "      <td>1</td>\n",
       "    </tr>\n",
       "  </tbody>\n",
       "</table>\n",
       "</div>"
      ],
      "text/plain": [
       "        id                                               text author  \\\n",
       "0  id26305  this proces however afforded me no means of as...    EAP   \n",
       "1  id17569  it never once occurred to me that the fumbling...    HPL   \n",
       "2  id11008  in his left hand was a gold snuff box from whi...    EAP   \n",
       "3  id27763  how lovely is spring as we looked from windsor...    MWS   \n",
       "4  id12958  finding nothing else not even gold the superin...    HPL   \n",
       "\n",
       "   author_encoded  \n",
       "0               0  \n",
       "1               1  \n",
       "2               0  \n",
       "3               2  \n",
       "4               1  "
      ]
     },
     "execution_count": 18,
     "metadata": {},
     "output_type": "execute_result"
    }
   ],
   "source": [
    "df.head()"
   ]
  },
  {
   "cell_type": "markdown",
   "id": "715b98b0-cb05-4f07-a5df-2083251ead79",
   "metadata": {},
   "source": [
    "\n",
    "\n",
    "\n",
    "\n",
    "\n",
    "\n",
    "\n",
    "\n",
    "## C. construction des bases d’entraînement et de test"
   ]
  },
  {
   "cell_type": "markdown",
   "id": "f082cacd-87b6-4793-aa4b-6f7dc192accc",
   "metadata": {},
   "source": [
    " tarining & test dataset"
   ]
  },
  {
   "cell_type": "code",
   "execution_count": 19,
   "id": "7f5e75eb-1bfa-4ffd-97aa-8e902630aaf6",
   "metadata": {},
   "outputs": [],
   "source": [
    "x_train, x_test, y_train, y_test = train_test_split(df['text'], df['author_encoded'], test_size=0.3, random_state=0, stratify = df['author_encoded'])"
   ]
  },
  {
   "cell_type": "markdown",
   "id": "24f0dc9e-f807-4413-b4a0-d621569b9f5e",
   "metadata": {},
   "source": [
    "obtenir une repartition similaire dans chaque classe du dataset"
   ]
  },
  {
   "cell_type": "code",
   "execution_count": 20,
   "id": "ccfe840b-3338-4cf6-a05a-64f2c0898314",
   "metadata": {},
   "outputs": [
    {
     "data": {
      "text/plain": [
       "author_encoded\n",
       "0    5530\n",
       "2    4231\n",
       "1    3944\n",
       "Name: count, dtype: int64"
      ]
     },
     "execution_count": 20,
     "metadata": {},
     "output_type": "execute_result"
    }
   ],
   "source": [
    "y_train.value_counts()"
   ]
  },
  {
   "cell_type": "code",
   "execution_count": 21,
   "id": "c1fa82d8",
   "metadata": {},
   "outputs": [
    {
     "data": {
      "text/plain": [
       "author_encoded\n",
       "0    2370\n",
       "2    1813\n",
       "1    1691\n",
       "Name: count, dtype: int64"
      ]
     },
     "execution_count": 21,
     "metadata": {},
     "output_type": "execute_result"
    }
   ],
   "source": [
    "y_test.value_counts()"
   ]
  },
  {
   "cell_type": "code",
   "execution_count": 22,
   "id": "61056f20",
   "metadata": {},
   "outputs": [
    {
     "data": {
      "text/plain": [
       "author_encoded\n",
       "0    2.333333\n",
       "2    2.333701\n",
       "1    2.332348\n",
       "Name: count, dtype: float64"
      ]
     },
     "execution_count": 22,
     "metadata": {},
     "output_type": "execute_result"
    }
   ],
   "source": [
    "y_train.value_counts()/y_test.value_counts()"
   ]
  },
  {
   "cell_type": "markdown",
   "id": "b48c4902",
   "metadata": {},
   "source": [
    "## G. vectorisation (embeddings de mots)"
   ]
  },
  {
   "cell_type": "markdown",
   "id": "df53f4ad",
   "metadata": {},
   "source": [
    "fastText"
   ]
  },
  {
   "cell_type": "code",
   "execution_count": 23,
   "id": "24ba85b3",
   "metadata": {},
   "outputs": [],
   "source": [
    "fasttext_model = FastText(sentences=x_train, vector_size=100, window=5, min_count=1, workers=4)"
   ]
  },
  {
   "cell_type": "code",
   "execution_count": 24,
   "id": "385fd33d",
   "metadata": {},
   "outputs": [],
   "source": [
    "def apply_fasttest_model(sentence):\n",
    "    words = sentence.split()\n",
    "    word_vectors = [fasttext_model.wv[word] for word in words if word in fasttext_model.wv]\n",
    "    return np.mean(word_vectors, axis=0) if word_vectors else np.zeros(fasttext_model.vector_size)\n",
    "\n",
    "x_train_fasttext = np.array([apply_fasttest_model(sentence) for sentence in x_train])\n",
    "x_test_fasttext = np.array([apply_fasttest_model(sentence) for sentence in x_test])"
   ]
  },
  {
   "cell_type": "code",
   "execution_count": 25,
   "id": "c1ff4862",
   "metadata": {},
   "outputs": [
    {
     "data": {
      "text/plain": [
       "array([[-2.6414480e-02, -5.6211394e-03,  6.2599243e-03, ...,\n",
       "         9.3179084e-03, -3.0198617e-02, -1.7895570e-02],\n",
       "       [-1.5246296e-02,  4.2545707e-03, -9.6049653e-03, ...,\n",
       "         9.0960839e-06, -4.4681113e-03, -3.6076030e-03],\n",
       "       [-3.5161825e-03, -9.1566071e-03,  1.5348463e-02, ...,\n",
       "         6.9344011e-03, -1.8878652e-02, -1.1185233e-02],\n",
       "       ...,\n",
       "       [ 1.0763680e-03,  1.0093573e-03,  5.3692912e-04, ...,\n",
       "        -1.0471374e-03, -1.1869870e-03, -3.0778430e-04],\n",
       "       [-3.3312928e-04,  2.1707702e-03,  1.3398016e-03, ...,\n",
       "        -3.2499383e-04,  5.9631170e-04,  1.0990292e-03],\n",
       "       [-3.0516753e-02,  7.6204189e-03, -1.8517317e-02, ...,\n",
       "         2.5697768e-04, -9.7685754e-03, -6.6769491e-03]], dtype=float32)"
      ]
     },
     "execution_count": 25,
     "metadata": {},
     "output_type": "execute_result"
    }
   ],
   "source": [
    "x_train_fasttext"
   ]
  },
  {
   "cell_type": "code",
   "execution_count": 26,
   "id": "fc980ca8",
   "metadata": {},
   "outputs": [
    {
     "data": {
      "text/plain": [
       "(13705, 100)"
      ]
     },
     "execution_count": 26,
     "metadata": {},
     "output_type": "execute_result"
    }
   ],
   "source": [
    "x_train_fasttext.shape"
   ]
  },
  {
   "cell_type": "markdown",
   "id": "84fd71cb",
   "metadata": {},
   "source": [
    "## H. entrainement/test"
   ]
  },
  {
   "cell_type": "markdown",
   "id": "851ee45b",
   "metadata": {},
   "source": [
    "result"
   ]
  },
  {
   "cell_type": "code",
   "execution_count": 27,
   "id": "ac5f8b33",
   "metadata": {},
   "outputs": [],
   "source": [
    "def train_and_evaluate(X_train, X_test, y_train, y_test):\n",
    "    mlp = MLPClassifier(hidden_layer_sizes=(20,), max_iter=20, random_state=0)\n",
    "    mlp.fit(X_train, y_train)\n",
    "    \n",
    "    y_train_pred = mlp.predict(X_train)\n",
    "    y_test_pred = mlp.predict(X_test)\n",
    "    \n",
    "    print(\"Train Classification Report:\")\n",
    "    print(classification_report(y_train, y_train_pred))\n",
    "    print(\"Test Classification Report:\")\n",
    "    print(classification_report(y_test, y_test_pred))\n",
    "    \n",
    "    start_time = time.time()\n",
    "    mlp.predict(X_test)\n",
    "    print(f\"Prediction time: {time.time() - start_time:.5f} seconds\")"
   ]
  },
  {
   "cell_type": "code",
   "execution_count": 28,
   "id": "c1c7aad0",
   "metadata": {},
   "outputs": [
    {
     "name": "stdout",
     "output_type": "stream",
     "text": [
      "fasttext results:\n"
     ]
    },
    {
     "name": "stdout",
     "output_type": "stream",
     "text": [
      "Train Classification Report:\n",
      "              precision    recall  f1-score   support\n",
      "\n",
      "           0       0.42      0.84      0.56      5530\n",
      "           1       0.74      0.01      0.02      3944\n",
      "           2       0.42      0.25      0.31      4231\n",
      "\n",
      "    accuracy                           0.42     13705\n",
      "   macro avg       0.52      0.37      0.30     13705\n",
      "weighted avg       0.51      0.42      0.33     13705\n",
      "\n",
      "Test Classification Report:\n",
      "              precision    recall  f1-score   support\n",
      "\n",
      "           0       0.41      0.82      0.55      2370\n",
      "           1       0.56      0.01      0.01      1691\n",
      "           2       0.41      0.24      0.30      1813\n",
      "\n",
      "    accuracy                           0.41      5874\n",
      "   macro avg       0.46      0.36      0.29      5874\n",
      "weighted avg       0.45      0.41      0.32      5874\n",
      "\n",
      "Prediction time: 0.00486 seconds\n"
     ]
    },
    {
     "name": "stderr",
     "output_type": "stream",
     "text": [
      "/home/mina/anaconda3/lib/python3.12/site-packages/sklearn/neural_network/_multilayer_perceptron.py:690: ConvergenceWarning: Stochastic Optimizer: Maximum iterations (20) reached and the optimization hasn't converged yet.\n",
      "  warnings.warn(\n"
     ]
    }
   ],
   "source": [
    "print(\"fasttext results:\")\n",
    "train_and_evaluate(x_train_fasttext, x_test_fasttext, y_train, y_test)"
   ]
  },
  {
   "cell_type": "markdown",
   "id": "6ebac1b3",
   "metadata": {},
   "source": [
    "### CBOW with FastText"
   ]
  },
  {
   "cell_type": "code",
   "execution_count": 29,
   "id": "d881ca38",
   "metadata": {},
   "outputs": [],
   "source": [
    "fasttext_model = FastText(sentences=x_train, vector_size=100, window=5, min_count=1, workers=4, sg=0)"
   ]
  },
  {
   "cell_type": "code",
   "execution_count": 30,
   "id": "695067ce",
   "metadata": {},
   "outputs": [],
   "source": [
    "x_train_fasttext = np.array([apply_fasttest_model(sentence) for sentence in x_train])\n",
    "x_test_fasttext = np.array([apply_fasttest_model(sentence) for sentence in x_test])"
   ]
  },
  {
   "cell_type": "code",
   "execution_count": 31,
   "id": "516af936",
   "metadata": {},
   "outputs": [
    {
     "data": {
      "text/plain": [
       "array([[-0.00013085,  0.0023482 , -0.02081653, ...,  0.00089923,\n",
       "        -0.03118732, -0.03685814],\n",
       "       [-0.0023779 , -0.00047567, -0.00875388, ..., -0.00084579,\n",
       "        -0.00827542, -0.01572775],\n",
       "       [ 0.00307296,  0.00284655, -0.00779148, ...,  0.00103728,\n",
       "        -0.01527457, -0.01265171],\n",
       "       ...,\n",
       "       [ 0.00107637,  0.00100936,  0.00053693, ..., -0.00104714,\n",
       "        -0.00118699, -0.00030778],\n",
       "       [-0.00033313,  0.00217077,  0.0013398 , ..., -0.00032499,\n",
       "         0.00059631,  0.00109903],\n",
       "       [-0.0052749 , -0.00165814, -0.01684788, ..., -0.00141991,\n",
       "        -0.01723676, -0.03045109]], dtype=float32)"
      ]
     },
     "execution_count": 31,
     "metadata": {},
     "output_type": "execute_result"
    }
   ],
   "source": [
    "x_train_fasttext"
   ]
  },
  {
   "cell_type": "code",
   "execution_count": 32,
   "id": "983ef6c7",
   "metadata": {},
   "outputs": [
    {
     "data": {
      "text/plain": [
       "(13705, 100)"
      ]
     },
     "execution_count": 32,
     "metadata": {},
     "output_type": "execute_result"
    }
   ],
   "source": [
    "x_train_fasttext.shape"
   ]
  },
  {
   "cell_type": "code",
   "execution_count": 33,
   "id": "a8cb40ce",
   "metadata": {},
   "outputs": [
    {
     "name": "stdout",
     "output_type": "stream",
     "text": [
      "fasttext results:\n",
      "Train Classification Report:\n",
      "              precision    recall  f1-score   support\n",
      "\n",
      "           0       0.42      0.84      0.56      5530\n",
      "           1       0.64      0.00      0.00      3944\n",
      "           2       0.42      0.25      0.31      4231\n",
      "\n",
      "    accuracy                           0.42     13705\n",
      "   macro avg       0.49      0.36      0.29     13705\n",
      "weighted avg       0.48      0.42      0.32     13705\n",
      "\n",
      "Test Classification Report:\n",
      "              precision    recall  f1-score   support\n",
      "\n",
      "           0       0.41      0.82      0.55      2370\n",
      "           1       0.50      0.00      0.00      1691\n",
      "           2       0.40      0.24      0.30      1813\n",
      "\n",
      "    accuracy                           0.41      5874\n",
      "   macro avg       0.44      0.35      0.28      5874\n",
      "weighted avg       0.43      0.41      0.31      5874\n",
      "\n",
      "Prediction time: 0.00361 seconds\n"
     ]
    },
    {
     "name": "stderr",
     "output_type": "stream",
     "text": [
      "/home/mina/anaconda3/lib/python3.12/site-packages/sklearn/neural_network/_multilayer_perceptron.py:690: ConvergenceWarning: Stochastic Optimizer: Maximum iterations (20) reached and the optimization hasn't converged yet.\n",
      "  warnings.warn(\n"
     ]
    }
   ],
   "source": [
    "print(\"fasttext results:\")\n",
    "train_and_evaluate(x_train_fasttext, x_test_fasttext, y_train, y_test)"
   ]
  },
  {
   "cell_type": "code",
   "execution_count": null,
   "id": "02a91dfb",
   "metadata": {},
   "outputs": [],
   "source": []
  }
 ],
 "metadata": {
  "kernelspec": {
   "display_name": "base",
   "language": "python",
   "name": "python3"
  },
  "language_info": {
   "codemirror_mode": {
    "name": "ipython",
    "version": 3
   },
   "file_extension": ".py",
   "mimetype": "text/x-python",
   "name": "python",
   "nbconvert_exporter": "python",
   "pygments_lexer": "ipython3",
   "version": "3.12.4"
  }
 },
 "nbformat": 4,
 "nbformat_minor": 5
}
