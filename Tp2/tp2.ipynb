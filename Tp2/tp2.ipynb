{
 "cells": [
  {
   "cell_type": "markdown",
   "id": "f11f7bcb",
   "metadata": {},
   "source": [
    "# feature extraction and embeddings"
   ]
  },
  {
   "cell_type": "code",
   "execution_count": 33,
   "id": "9662dfb3",
   "metadata": {},
   "outputs": [],
   "source": [
    "from sklearn.feature_extraction.text import CountVectorizer, TfidfVectorizer\n",
    "from sklearn.model_selection import GridSearchCV, cross_val_score\n",
    "from sklearn.metrics import classification_report, accuracy_score\n",
    "from sklearn.preprocessing import OneHotEncoder, LabelEncoder\n",
    "from sklearn.feature_extraction.text import CountVectorizer\n",
    "from sklearn.model_selection import train_test_split\n",
    "from gensim.models.keyedvectors import KeyedVectors\n",
    "from sklearn.preprocessing import StandardScaler\n",
    "from sklearn.neural_network import MLPClassifier\n",
    "from gensim.models import Word2Vec, FastText\n",
    "from nltk.tokenize import word_tokenize\n",
    "from sklearn.pipeline import Pipeline\n",
    "from sklearn.svm import LinearSVC\n",
    "import pandas as pd\n",
    "import numpy as np\n",
    "import time"
   ]
  },
  {
   "cell_type": "markdown",
   "id": "3ccbee45",
   "metadata": {},
   "source": [
    "## A. preparation de donnees"
   ]
  },
  {
   "cell_type": "code",
   "execution_count": 34,
   "id": "09f9e7a5",
   "metadata": {},
   "outputs": [],
   "source": [
    "df = pd.read_csv('./spooky.csv')"
   ]
  },
  {
   "cell_type": "code",
   "execution_count": 35,
   "id": "85ae625c-af86-4662-8f70-f3ee19462663",
   "metadata": {},
   "outputs": [
    {
     "data": {
      "text/html": [
       "<div>\n",
       "<style scoped>\n",
       "    .dataframe tbody tr th:only-of-type {\n",
       "        vertical-align: middle;\n",
       "    }\n",
       "\n",
       "    .dataframe tbody tr th {\n",
       "        vertical-align: top;\n",
       "    }\n",
       "\n",
       "    .dataframe thead th {\n",
       "        text-align: right;\n",
       "    }\n",
       "</style>\n",
       "<table border=\"1\" class=\"dataframe\">\n",
       "  <thead>\n",
       "    <tr style=\"text-align: right;\">\n",
       "      <th></th>\n",
       "      <th>id</th>\n",
       "      <th>text</th>\n",
       "      <th>author</th>\n",
       "      <th>tokens_space</th>\n",
       "      <th>tokens_rule</th>\n",
       "      <th>tokens_subword</th>\n",
       "      <th>entities</th>\n",
       "      <th>pos_tags</th>\n",
       "      <th>lemmatized</th>\n",
       "      <th>stemmed</th>\n",
       "      <th>great_count</th>\n",
       "      <th>impossible_count</th>\n",
       "      <th>sentiment</th>\n",
       "    </tr>\n",
       "  </thead>\n",
       "  <tbody>\n",
       "    <tr>\n",
       "      <th>0</th>\n",
       "      <td>id26305</td>\n",
       "      <td>process however afforded means ascertaining di...</td>\n",
       "      <td>EAP</td>\n",
       "      <td>['process', 'however', 'afforded', 'means', 'a...</td>\n",
       "      <td>['process', 'however', 'afforded', 'means', 'a...</td>\n",
       "      <td>['process', 'however', 'afforded', 'means', 'a...</td>\n",
       "      <td>[]</td>\n",
       "      <td>[('process', 'NOUN'), ('however', 'ADV'), ('af...</td>\n",
       "      <td>process however afforded mean ascertaining dim...</td>\n",
       "      <td>process howev afford mean ascertain dimens dun...</td>\n",
       "      <td>0</td>\n",
       "      <td>0</td>\n",
       "      <td>-0.5216</td>\n",
       "    </tr>\n",
       "    <tr>\n",
       "      <th>1</th>\n",
       "      <td>id17569</td>\n",
       "      <td>never occurred fumbling might mere mistake</td>\n",
       "      <td>HPL</td>\n",
       "      <td>['never', 'occurred', 'fumbling', 'might', 'me...</td>\n",
       "      <td>['never', 'occurred', 'fumbling', 'might', 'me...</td>\n",
       "      <td>['never', 'occurred', 'fu', '##mbling', 'might...</td>\n",
       "      <td>[]</td>\n",
       "      <td>[('never', 'ADV'), ('occurred', 'VERB'), ('fum...</td>\n",
       "      <td>never occurred fumbling might mere mistake</td>\n",
       "      <td>never occur fumbl might mere mistak</td>\n",
       "      <td>0</td>\n",
       "      <td>0</td>\n",
       "      <td>-0.3400</td>\n",
       "    </tr>\n",
       "    <tr>\n",
       "      <th>2</th>\n",
       "      <td>id11008</td>\n",
       "      <td>left hand gold snuff box capered hill cutting ...</td>\n",
       "      <td>EAP</td>\n",
       "      <td>['left', 'hand', 'gold', 'snuff', 'box', 'cape...</td>\n",
       "      <td>['left', 'hand', 'gold', 'snuff', 'box', 'cape...</td>\n",
       "      <td>['left', 'hand', 'gold', 's', '##nu', '##ff', ...</td>\n",
       "      <td>[('gold snuff', 'ORG'), ('hill cutting manner ...</td>\n",
       "      <td>[('left', 'VERB'), ('hand', 'NOUN'), ('gold', ...</td>\n",
       "      <td>left hand gold snuff box capered hill cutting ...</td>\n",
       "      <td>left hand gold snuff box caper hill cut manner...</td>\n",
       "      <td>1</td>\n",
       "      <td>0</td>\n",
       "      <td>0.9246</td>\n",
       "    </tr>\n",
       "    <tr>\n",
       "      <th>3</th>\n",
       "      <td>id27763</td>\n",
       "      <td>lovely spring looked windsor terrace sixteen f...</td>\n",
       "      <td>MWS</td>\n",
       "      <td>['lovely', 'spring', 'looked', 'windsor', 'ter...</td>\n",
       "      <td>['lovely', 'spring', 'looked', 'windsor', 'ter...</td>\n",
       "      <td>['lovely', 'spring', 'looked', 'windsor', 'ter...</td>\n",
       "      <td>[('sixteen', 'CARDINAL'), ('years', 'DATE')]</td>\n",
       "      <td>[('lovely', 'ADJ'), ('spring', 'NOUN'), ('look...</td>\n",
       "      <td>lovely spring looked windsor terrace sixteen f...</td>\n",
       "      <td>love spring look windsor terrac sixteen fertil...</td>\n",
       "      <td>0</td>\n",
       "      <td>0</td>\n",
       "      <td>0.9460</td>\n",
       "    </tr>\n",
       "    <tr>\n",
       "      <th>4</th>\n",
       "      <td>id12958</td>\n",
       "      <td>finding nothing else even gold superintendent ...</td>\n",
       "      <td>HPL</td>\n",
       "      <td>['finding', 'nothing', 'else', 'even', 'gold',...</td>\n",
       "      <td>['finding', 'nothing', 'else', 'even', 'gold',...</td>\n",
       "      <td>['finding', 'nothing', 'else', 'even', 'gold',...</td>\n",
       "      <td>[]</td>\n",
       "      <td>[('finding', 'VERB'), ('nothing', 'PRON'), ('e...</td>\n",
       "      <td>finding nothing else even gold superintendent ...</td>\n",
       "      <td>find noth els even gold superintend abandon at...</td>\n",
       "      <td>0</td>\n",
       "      <td>0</td>\n",
       "      <td>-0.8078</td>\n",
       "    </tr>\n",
       "  </tbody>\n",
       "</table>\n",
       "</div>"
      ],
      "text/plain": [
       "        id                                               text author  \\\n",
       "0  id26305  process however afforded means ascertaining di...    EAP   \n",
       "1  id17569         never occurred fumbling might mere mistake    HPL   \n",
       "2  id11008  left hand gold snuff box capered hill cutting ...    EAP   \n",
       "3  id27763  lovely spring looked windsor terrace sixteen f...    MWS   \n",
       "4  id12958  finding nothing else even gold superintendent ...    HPL   \n",
       "\n",
       "                                        tokens_space  \\\n",
       "0  ['process', 'however', 'afforded', 'means', 'a...   \n",
       "1  ['never', 'occurred', 'fumbling', 'might', 'me...   \n",
       "2  ['left', 'hand', 'gold', 'snuff', 'box', 'cape...   \n",
       "3  ['lovely', 'spring', 'looked', 'windsor', 'ter...   \n",
       "4  ['finding', 'nothing', 'else', 'even', 'gold',...   \n",
       "\n",
       "                                         tokens_rule  \\\n",
       "0  ['process', 'however', 'afforded', 'means', 'a...   \n",
       "1  ['never', 'occurred', 'fumbling', 'might', 'me...   \n",
       "2  ['left', 'hand', 'gold', 'snuff', 'box', 'cape...   \n",
       "3  ['lovely', 'spring', 'looked', 'windsor', 'ter...   \n",
       "4  ['finding', 'nothing', 'else', 'even', 'gold',...   \n",
       "\n",
       "                                      tokens_subword  \\\n",
       "0  ['process', 'however', 'afforded', 'means', 'a...   \n",
       "1  ['never', 'occurred', 'fu', '##mbling', 'might...   \n",
       "2  ['left', 'hand', 'gold', 's', '##nu', '##ff', ...   \n",
       "3  ['lovely', 'spring', 'looked', 'windsor', 'ter...   \n",
       "4  ['finding', 'nothing', 'else', 'even', 'gold',...   \n",
       "\n",
       "                                            entities  \\\n",
       "0                                                 []   \n",
       "1                                                 []   \n",
       "2  [('gold snuff', 'ORG'), ('hill cutting manner ...   \n",
       "3       [('sixteen', 'CARDINAL'), ('years', 'DATE')]   \n",
       "4                                                 []   \n",
       "\n",
       "                                            pos_tags  \\\n",
       "0  [('process', 'NOUN'), ('however', 'ADV'), ('af...   \n",
       "1  [('never', 'ADV'), ('occurred', 'VERB'), ('fum...   \n",
       "2  [('left', 'VERB'), ('hand', 'NOUN'), ('gold', ...   \n",
       "3  [('lovely', 'ADJ'), ('spring', 'NOUN'), ('look...   \n",
       "4  [('finding', 'VERB'), ('nothing', 'PRON'), ('e...   \n",
       "\n",
       "                                          lemmatized  \\\n",
       "0  process however afforded mean ascertaining dim...   \n",
       "1         never occurred fumbling might mere mistake   \n",
       "2  left hand gold snuff box capered hill cutting ...   \n",
       "3  lovely spring looked windsor terrace sixteen f...   \n",
       "4  finding nothing else even gold superintendent ...   \n",
       "\n",
       "                                             stemmed  great_count  \\\n",
       "0  process howev afford mean ascertain dimens dun...            0   \n",
       "1                never occur fumbl might mere mistak            0   \n",
       "2  left hand gold snuff box caper hill cut manner...            1   \n",
       "3  love spring look windsor terrac sixteen fertil...            0   \n",
       "4  find noth els even gold superintend abandon at...            0   \n",
       "\n",
       "   impossible_count  sentiment  \n",
       "0                 0    -0.5216  \n",
       "1                 0    -0.3400  \n",
       "2                 0     0.9246  \n",
       "3                 0     0.9460  \n",
       "4                 0    -0.8078  "
      ]
     },
     "execution_count": 35,
     "metadata": {},
     "output_type": "execute_result"
    }
   ],
   "source": [
    "df.head()"
   ]
  },
  {
   "cell_type": "code",
   "execution_count": 36,
   "id": "1b3000a2-84c5-4615-81ce-130f1a44ed22",
   "metadata": {},
   "outputs": [],
   "source": [
    "df = df[['id', 'text', 'author', 'tokens_subword']]"
   ]
  },
  {
   "cell_type": "code",
   "execution_count": 37,
   "id": "90c484af-8bcd-4734-8b57-ac92597d5561",
   "metadata": {},
   "outputs": [
    {
     "data": {
      "text/html": [
       "<div>\n",
       "<style scoped>\n",
       "    .dataframe tbody tr th:only-of-type {\n",
       "        vertical-align: middle;\n",
       "    }\n",
       "\n",
       "    .dataframe tbody tr th {\n",
       "        vertical-align: top;\n",
       "    }\n",
       "\n",
       "    .dataframe thead th {\n",
       "        text-align: right;\n",
       "    }\n",
       "</style>\n",
       "<table border=\"1\" class=\"dataframe\">\n",
       "  <thead>\n",
       "    <tr style=\"text-align: right;\">\n",
       "      <th></th>\n",
       "      <th>id</th>\n",
       "      <th>text</th>\n",
       "      <th>author</th>\n",
       "      <th>tokens_subword</th>\n",
       "    </tr>\n",
       "  </thead>\n",
       "  <tbody>\n",
       "    <tr>\n",
       "      <th>0</th>\n",
       "      <td>id26305</td>\n",
       "      <td>process however afforded means ascertaining di...</td>\n",
       "      <td>EAP</td>\n",
       "      <td>['process', 'however', 'afforded', 'means', 'a...</td>\n",
       "    </tr>\n",
       "    <tr>\n",
       "      <th>1</th>\n",
       "      <td>id17569</td>\n",
       "      <td>never occurred fumbling might mere mistake</td>\n",
       "      <td>HPL</td>\n",
       "      <td>['never', 'occurred', 'fu', '##mbling', 'might...</td>\n",
       "    </tr>\n",
       "    <tr>\n",
       "      <th>2</th>\n",
       "      <td>id11008</td>\n",
       "      <td>left hand gold snuff box capered hill cutting ...</td>\n",
       "      <td>EAP</td>\n",
       "      <td>['left', 'hand', 'gold', 's', '##nu', '##ff', ...</td>\n",
       "    </tr>\n",
       "    <tr>\n",
       "      <th>3</th>\n",
       "      <td>id27763</td>\n",
       "      <td>lovely spring looked windsor terrace sixteen f...</td>\n",
       "      <td>MWS</td>\n",
       "      <td>['lovely', 'spring', 'looked', 'windsor', 'ter...</td>\n",
       "    </tr>\n",
       "    <tr>\n",
       "      <th>4</th>\n",
       "      <td>id12958</td>\n",
       "      <td>finding nothing else even gold superintendent ...</td>\n",
       "      <td>HPL</td>\n",
       "      <td>['finding', 'nothing', 'else', 'even', 'gold',...</td>\n",
       "    </tr>\n",
       "  </tbody>\n",
       "</table>\n",
       "</div>"
      ],
      "text/plain": [
       "        id                                               text author  \\\n",
       "0  id26305  process however afforded means ascertaining di...    EAP   \n",
       "1  id17569         never occurred fumbling might mere mistake    HPL   \n",
       "2  id11008  left hand gold snuff box capered hill cutting ...    EAP   \n",
       "3  id27763  lovely spring looked windsor terrace sixteen f...    MWS   \n",
       "4  id12958  finding nothing else even gold superintendent ...    HPL   \n",
       "\n",
       "                                      tokens_subword  \n",
       "0  ['process', 'however', 'afforded', 'means', 'a...  \n",
       "1  ['never', 'occurred', 'fu', '##mbling', 'might...  \n",
       "2  ['left', 'hand', 'gold', 's', '##nu', '##ff', ...  \n",
       "3  ['lovely', 'spring', 'looked', 'windsor', 'ter...  \n",
       "4  ['finding', 'nothing', 'else', 'even', 'gold',...  "
      ]
     },
     "execution_count": 37,
     "metadata": {},
     "output_type": "execute_result"
    }
   ],
   "source": [
    "df.head()"
   ]
  },
  {
   "cell_type": "code",
   "execution_count": 38,
   "id": "281c849d",
   "metadata": {},
   "outputs": [
    {
     "data": {
      "text/plain": [
       "3"
      ]
     },
     "execution_count": 38,
     "metadata": {},
     "output_type": "execute_result"
    }
   ],
   "source": [
    "df['text'].isnull().sum()"
   ]
  },
  {
   "cell_type": "code",
   "execution_count": 39,
   "id": "c825c886",
   "metadata": {},
   "outputs": [],
   "source": [
    "df = df.dropna(subset=['text'])"
   ]
  },
  {
   "cell_type": "code",
   "execution_count": 40,
   "id": "6ef53111",
   "metadata": {},
   "outputs": [
    {
     "data": {
      "text/plain": [
       "0"
      ]
     },
     "execution_count": 40,
     "metadata": {},
     "output_type": "execute_result"
    }
   ],
   "source": [
    "df['text'].isnull().sum()"
   ]
  },
  {
   "cell_type": "markdown",
   "id": "218f3f87",
   "metadata": {},
   "source": [
    "## B. encodage de la variable a predire (facultatif)"
   ]
  },
  {
   "cell_type": "code",
   "execution_count": 41,
   "id": "67a2c53f",
   "metadata": {},
   "outputs": [],
   "source": [
    "label_encoder = LabelEncoder()\n",
    "df['author_encoded'] = label_encoder.fit_transform(df['author'])"
   ]
  },
  {
   "cell_type": "code",
   "execution_count": 42,
   "id": "fac1cc25-94ba-4d9f-b30b-d36fd365b4b1",
   "metadata": {},
   "outputs": [
    {
     "data": {
      "text/html": [
       "<div>\n",
       "<style scoped>\n",
       "    .dataframe tbody tr th:only-of-type {\n",
       "        vertical-align: middle;\n",
       "    }\n",
       "\n",
       "    .dataframe tbody tr th {\n",
       "        vertical-align: top;\n",
       "    }\n",
       "\n",
       "    .dataframe thead th {\n",
       "        text-align: right;\n",
       "    }\n",
       "</style>\n",
       "<table border=\"1\" class=\"dataframe\">\n",
       "  <thead>\n",
       "    <tr style=\"text-align: right;\">\n",
       "      <th></th>\n",
       "      <th>id</th>\n",
       "      <th>text</th>\n",
       "      <th>author</th>\n",
       "      <th>tokens_subword</th>\n",
       "      <th>author_encoded</th>\n",
       "    </tr>\n",
       "  </thead>\n",
       "  <tbody>\n",
       "    <tr>\n",
       "      <th>0</th>\n",
       "      <td>id26305</td>\n",
       "      <td>process however afforded means ascertaining di...</td>\n",
       "      <td>EAP</td>\n",
       "      <td>['process', 'however', 'afforded', 'means', 'a...</td>\n",
       "      <td>0</td>\n",
       "    </tr>\n",
       "    <tr>\n",
       "      <th>1</th>\n",
       "      <td>id17569</td>\n",
       "      <td>never occurred fumbling might mere mistake</td>\n",
       "      <td>HPL</td>\n",
       "      <td>['never', 'occurred', 'fu', '##mbling', 'might...</td>\n",
       "      <td>1</td>\n",
       "    </tr>\n",
       "    <tr>\n",
       "      <th>2</th>\n",
       "      <td>id11008</td>\n",
       "      <td>left hand gold snuff box capered hill cutting ...</td>\n",
       "      <td>EAP</td>\n",
       "      <td>['left', 'hand', 'gold', 's', '##nu', '##ff', ...</td>\n",
       "      <td>0</td>\n",
       "    </tr>\n",
       "    <tr>\n",
       "      <th>3</th>\n",
       "      <td>id27763</td>\n",
       "      <td>lovely spring looked windsor terrace sixteen f...</td>\n",
       "      <td>MWS</td>\n",
       "      <td>['lovely', 'spring', 'looked', 'windsor', 'ter...</td>\n",
       "      <td>2</td>\n",
       "    </tr>\n",
       "    <tr>\n",
       "      <th>4</th>\n",
       "      <td>id12958</td>\n",
       "      <td>finding nothing else even gold superintendent ...</td>\n",
       "      <td>HPL</td>\n",
       "      <td>['finding', 'nothing', 'else', 'even', 'gold',...</td>\n",
       "      <td>1</td>\n",
       "    </tr>\n",
       "  </tbody>\n",
       "</table>\n",
       "</div>"
      ],
      "text/plain": [
       "        id                                               text author  \\\n",
       "0  id26305  process however afforded means ascertaining di...    EAP   \n",
       "1  id17569         never occurred fumbling might mere mistake    HPL   \n",
       "2  id11008  left hand gold snuff box capered hill cutting ...    EAP   \n",
       "3  id27763  lovely spring looked windsor terrace sixteen f...    MWS   \n",
       "4  id12958  finding nothing else even gold superintendent ...    HPL   \n",
       "\n",
       "                                      tokens_subword  author_encoded  \n",
       "0  ['process', 'however', 'afforded', 'means', 'a...               0  \n",
       "1  ['never', 'occurred', 'fu', '##mbling', 'might...               1  \n",
       "2  ['left', 'hand', 'gold', 's', '##nu', '##ff', ...               0  \n",
       "3  ['lovely', 'spring', 'looked', 'windsor', 'ter...               2  \n",
       "4  ['finding', 'nothing', 'else', 'even', 'gold',...               1  "
      ]
     },
     "execution_count": 42,
     "metadata": {},
     "output_type": "execute_result"
    }
   ],
   "source": [
    "df.head()"
   ]
  },
  {
   "cell_type": "markdown",
   "id": "715b98b0-cb05-4f07-a5df-2083251ead79",
   "metadata": {},
   "source": [
    "## C. construction des bases d’entraînement et de test"
   ]
  },
  {
   "cell_type": "markdown",
   "id": "f082cacd-87b6-4793-aa4b-6f7dc192accc",
   "metadata": {},
   "source": [
    " tarining & test dataset"
   ]
  },
  {
   "cell_type": "code",
   "execution_count": 43,
   "id": "7f5e75eb-1bfa-4ffd-97aa-8e902630aaf6",
   "metadata": {},
   "outputs": [],
   "source": [
    "x_train, x_test, y_train, y_test = train_test_split(df['text'], df['author_encoded'], test_size=0.3, random_state=0, stratify = df['author_encoded'].values)"
   ]
  },
  {
   "cell_type": "markdown",
   "id": "24f0dc9e-f807-4413-b4a0-d621569b9f5e",
   "metadata": {},
   "source": [
    "obtenir une repartition similaire dans chaque classe du dataset"
   ]
  },
  {
   "cell_type": "code",
   "execution_count": 44,
   "id": "ccfe840b-3338-4cf6-a05a-64f2c0898314",
   "metadata": {},
   "outputs": [
    {
     "data": {
      "text/plain": [
       "author_encoded\n",
       "0    5529\n",
       "2    4230\n",
       "1    3944\n",
       "Name: count, dtype: int64"
      ]
     },
     "execution_count": 44,
     "metadata": {},
     "output_type": "execute_result"
    }
   ],
   "source": [
    "y_train.value_counts()"
   ]
  },
  {
   "cell_type": "code",
   "execution_count": 45,
   "id": "c1fa82d8",
   "metadata": {},
   "outputs": [
    {
     "data": {
      "text/plain": [
       "author_encoded\n",
       "0    2369\n",
       "2    1813\n",
       "1    1691\n",
       "Name: count, dtype: int64"
      ]
     },
     "execution_count": 45,
     "metadata": {},
     "output_type": "execute_result"
    }
   ],
   "source": [
    "y_test.value_counts()"
   ]
  },
  {
   "cell_type": "code",
   "execution_count": 46,
   "id": "61056f20",
   "metadata": {},
   "outputs": [
    {
     "data": {
      "text/plain": [
       "author_encoded\n",
       "0    2.333896\n",
       "2    2.333149\n",
       "1    2.332348\n",
       "Name: count, dtype: float64"
      ]
     },
     "execution_count": 46,
     "metadata": {},
     "output_type": "execute_result"
    }
   ],
   "source": [
    "y_train.value_counts()/y_test.value_counts()"
   ]
  },
  {
   "cell_type": "markdown",
   "id": "8e48a09d-0663-4c37-9694-44fb54fb13fa",
   "metadata": {},
   "source": [
    "## D. methodes de vectorisation"
   ]
  },
  {
   "cell_type": "markdown",
   "id": "254d0cef-0577-47bd-bb76-c0d8fe64fd46",
   "metadata": {},
   "source": [
    "vectoriser tarining & test dataset (frequence lexicale / one-hot encoding) (bag of words)"
   ]
  },
  {
   "cell_type": "code",
   "execution_count": 47,
   "id": "e504cc61-e21c-402e-be57-ce2827b8519c",
   "metadata": {},
   "outputs": [],
   "source": [
    "# binary false for frequence lexicale, binary true for one-hot encoding\n",
    "count_vectorizer = CountVectorizer(binary=False,analyzer= 'word', stop_words='english')"
   ]
  },
  {
   "cell_type": "code",
   "execution_count": 48,
   "id": "ba9958f4-e15b-4e0f-b4e7-2e4ba02366e1",
   "metadata": {},
   "outputs": [],
   "source": [
    "x_train_cv = count_vectorizer.fit_transform(x_train)\n",
    "x_test_cv = count_vectorizer.transform(x_test)"
   ]
  },
  {
   "cell_type": "markdown",
   "id": "e532466a",
   "metadata": {},
   "source": [
    "TF-IDF"
   ]
  },
  {
   "cell_type": "code",
   "execution_count": 49,
   "id": "504ec59c",
   "metadata": {},
   "outputs": [],
   "source": [
    "tfidf_vectorizer = TfidfVectorizer()\n",
    "x_train_tfidf = tfidf_vectorizer.fit_transform(x_train)\n",
    "x_test_tfidf = tfidf_vectorizer.transform(x_test)"
   ]
  },
  {
   "cell_type": "markdown",
   "id": "244fe51b",
   "metadata": {},
   "source": [
    "## E. entrainement"
   ]
  },
  {
   "cell_type": "markdown",
   "id": "56349ced",
   "metadata": {},
   "source": [
    "cree 3 models du type MLP classifier"
   ]
  },
  {
   "cell_type": "code",
   "execution_count": 50,
   "id": "7029f573",
   "metadata": {},
   "outputs": [],
   "source": [
    "mlp_count = MLPClassifier(random_state=0)\n",
    "mlp_tfidf = MLPClassifier(random_state=0)\n",
    "mlp_onehot = MLPClassifier(random_state=0)"
   ]
  },
  {
   "cell_type": "markdown",
   "id": "996c4011",
   "metadata": {},
   "source": [
    "entrainement"
   ]
  },
  {
   "cell_type": "code",
   "execution_count": 51,
   "id": "cd345435",
   "metadata": {},
   "outputs": [
    {
     "data": {
      "text/html": [
       "<style>#sk-container-id-1 {\n",
       "  /* Definition of color scheme common for light and dark mode */\n",
       "  --sklearn-color-text: black;\n",
       "  --sklearn-color-line: gray;\n",
       "  /* Definition of color scheme for unfitted estimators */\n",
       "  --sklearn-color-unfitted-level-0: #fff5e6;\n",
       "  --sklearn-color-unfitted-level-1: #f6e4d2;\n",
       "  --sklearn-color-unfitted-level-2: #ffe0b3;\n",
       "  --sklearn-color-unfitted-level-3: chocolate;\n",
       "  /* Definition of color scheme for fitted estimators */\n",
       "  --sklearn-color-fitted-level-0: #f0f8ff;\n",
       "  --sklearn-color-fitted-level-1: #d4ebff;\n",
       "  --sklearn-color-fitted-level-2: #b3dbfd;\n",
       "  --sklearn-color-fitted-level-3: cornflowerblue;\n",
       "\n",
       "  /* Specific color for light theme */\n",
       "  --sklearn-color-text-on-default-background: var(--sg-text-color, var(--theme-code-foreground, var(--jp-content-font-color1, black)));\n",
       "  --sklearn-color-background: var(--sg-background-color, var(--theme-background, var(--jp-layout-color0, white)));\n",
       "  --sklearn-color-border-box: var(--sg-text-color, var(--theme-code-foreground, var(--jp-content-font-color1, black)));\n",
       "  --sklearn-color-icon: #696969;\n",
       "\n",
       "  @media (prefers-color-scheme: dark) {\n",
       "    /* Redefinition of color scheme for dark theme */\n",
       "    --sklearn-color-text-on-default-background: var(--sg-text-color, var(--theme-code-foreground, var(--jp-content-font-color1, white)));\n",
       "    --sklearn-color-background: var(--sg-background-color, var(--theme-background, var(--jp-layout-color0, #111)));\n",
       "    --sklearn-color-border-box: var(--sg-text-color, var(--theme-code-foreground, var(--jp-content-font-color1, white)));\n",
       "    --sklearn-color-icon: #878787;\n",
       "  }\n",
       "}\n",
       "\n",
       "#sk-container-id-1 {\n",
       "  color: var(--sklearn-color-text);\n",
       "}\n",
       "\n",
       "#sk-container-id-1 pre {\n",
       "  padding: 0;\n",
       "}\n",
       "\n",
       "#sk-container-id-1 input.sk-hidden--visually {\n",
       "  border: 0;\n",
       "  clip: rect(1px 1px 1px 1px);\n",
       "  clip: rect(1px, 1px, 1px, 1px);\n",
       "  height: 1px;\n",
       "  margin: -1px;\n",
       "  overflow: hidden;\n",
       "  padding: 0;\n",
       "  position: absolute;\n",
       "  width: 1px;\n",
       "}\n",
       "\n",
       "#sk-container-id-1 div.sk-dashed-wrapped {\n",
       "  border: 1px dashed var(--sklearn-color-line);\n",
       "  margin: 0 0.4em 0.5em 0.4em;\n",
       "  box-sizing: border-box;\n",
       "  padding-bottom: 0.4em;\n",
       "  background-color: var(--sklearn-color-background);\n",
       "}\n",
       "\n",
       "#sk-container-id-1 div.sk-container {\n",
       "  /* jupyter's `normalize.less` sets `[hidden] { display: none; }`\n",
       "     but bootstrap.min.css set `[hidden] { display: none !important; }`\n",
       "     so we also need the `!important` here to be able to override the\n",
       "     default hidden behavior on the sphinx rendered scikit-learn.org.\n",
       "     See: https://github.com/scikit-learn/scikit-learn/issues/21755 */\n",
       "  display: inline-block !important;\n",
       "  position: relative;\n",
       "}\n",
       "\n",
       "#sk-container-id-1 div.sk-text-repr-fallback {\n",
       "  display: none;\n",
       "}\n",
       "\n",
       "div.sk-parallel-item,\n",
       "div.sk-serial,\n",
       "div.sk-item {\n",
       "  /* draw centered vertical line to link estimators */\n",
       "  background-image: linear-gradient(var(--sklearn-color-text-on-default-background), var(--sklearn-color-text-on-default-background));\n",
       "  background-size: 2px 100%;\n",
       "  background-repeat: no-repeat;\n",
       "  background-position: center center;\n",
       "}\n",
       "\n",
       "/* Parallel-specific style estimator block */\n",
       "\n",
       "#sk-container-id-1 div.sk-parallel-item::after {\n",
       "  content: \"\";\n",
       "  width: 100%;\n",
       "  border-bottom: 2px solid var(--sklearn-color-text-on-default-background);\n",
       "  flex-grow: 1;\n",
       "}\n",
       "\n",
       "#sk-container-id-1 div.sk-parallel {\n",
       "  display: flex;\n",
       "  align-items: stretch;\n",
       "  justify-content: center;\n",
       "  background-color: var(--sklearn-color-background);\n",
       "  position: relative;\n",
       "}\n",
       "\n",
       "#sk-container-id-1 div.sk-parallel-item {\n",
       "  display: flex;\n",
       "  flex-direction: column;\n",
       "}\n",
       "\n",
       "#sk-container-id-1 div.sk-parallel-item:first-child::after {\n",
       "  align-self: flex-end;\n",
       "  width: 50%;\n",
       "}\n",
       "\n",
       "#sk-container-id-1 div.sk-parallel-item:last-child::after {\n",
       "  align-self: flex-start;\n",
       "  width: 50%;\n",
       "}\n",
       "\n",
       "#sk-container-id-1 div.sk-parallel-item:only-child::after {\n",
       "  width: 0;\n",
       "}\n",
       "\n",
       "/* Serial-specific style estimator block */\n",
       "\n",
       "#sk-container-id-1 div.sk-serial {\n",
       "  display: flex;\n",
       "  flex-direction: column;\n",
       "  align-items: center;\n",
       "  background-color: var(--sklearn-color-background);\n",
       "  padding-right: 1em;\n",
       "  padding-left: 1em;\n",
       "}\n",
       "\n",
       "\n",
       "/* Toggleable style: style used for estimator/Pipeline/ColumnTransformer box that is\n",
       "clickable and can be expanded/collapsed.\n",
       "- Pipeline and ColumnTransformer use this feature and define the default style\n",
       "- Estimators will overwrite some part of the style using the `sk-estimator` class\n",
       "*/\n",
       "\n",
       "/* Pipeline and ColumnTransformer style (default) */\n",
       "\n",
       "#sk-container-id-1 div.sk-toggleable {\n",
       "  /* Default theme specific background. It is overwritten whether we have a\n",
       "  specific estimator or a Pipeline/ColumnTransformer */\n",
       "  background-color: var(--sklearn-color-background);\n",
       "}\n",
       "\n",
       "/* Toggleable label */\n",
       "#sk-container-id-1 label.sk-toggleable__label {\n",
       "  cursor: pointer;\n",
       "  display: block;\n",
       "  width: 100%;\n",
       "  margin-bottom: 0;\n",
       "  padding: 0.5em;\n",
       "  box-sizing: border-box;\n",
       "  text-align: center;\n",
       "}\n",
       "\n",
       "#sk-container-id-1 label.sk-toggleable__label-arrow:before {\n",
       "  /* Arrow on the left of the label */\n",
       "  content: \"▸\";\n",
       "  float: left;\n",
       "  margin-right: 0.25em;\n",
       "  color: var(--sklearn-color-icon);\n",
       "}\n",
       "\n",
       "#sk-container-id-1 label.sk-toggleable__label-arrow:hover:before {\n",
       "  color: var(--sklearn-color-text);\n",
       "}\n",
       "\n",
       "/* Toggleable content - dropdown */\n",
       "\n",
       "#sk-container-id-1 div.sk-toggleable__content {\n",
       "  max-height: 0;\n",
       "  max-width: 0;\n",
       "  overflow: hidden;\n",
       "  text-align: left;\n",
       "  /* unfitted */\n",
       "  background-color: var(--sklearn-color-unfitted-level-0);\n",
       "}\n",
       "\n",
       "#sk-container-id-1 div.sk-toggleable__content.fitted {\n",
       "  /* fitted */\n",
       "  background-color: var(--sklearn-color-fitted-level-0);\n",
       "}\n",
       "\n",
       "#sk-container-id-1 div.sk-toggleable__content pre {\n",
       "  margin: 0.2em;\n",
       "  border-radius: 0.25em;\n",
       "  color: var(--sklearn-color-text);\n",
       "  /* unfitted */\n",
       "  background-color: var(--sklearn-color-unfitted-level-0);\n",
       "}\n",
       "\n",
       "#sk-container-id-1 div.sk-toggleable__content.fitted pre {\n",
       "  /* unfitted */\n",
       "  background-color: var(--sklearn-color-fitted-level-0);\n",
       "}\n",
       "\n",
       "#sk-container-id-1 input.sk-toggleable__control:checked~div.sk-toggleable__content {\n",
       "  /* Expand drop-down */\n",
       "  max-height: 200px;\n",
       "  max-width: 100%;\n",
       "  overflow: auto;\n",
       "}\n",
       "\n",
       "#sk-container-id-1 input.sk-toggleable__control:checked~label.sk-toggleable__label-arrow:before {\n",
       "  content: \"▾\";\n",
       "}\n",
       "\n",
       "/* Pipeline/ColumnTransformer-specific style */\n",
       "\n",
       "#sk-container-id-1 div.sk-label input.sk-toggleable__control:checked~label.sk-toggleable__label {\n",
       "  color: var(--sklearn-color-text);\n",
       "  background-color: var(--sklearn-color-unfitted-level-2);\n",
       "}\n",
       "\n",
       "#sk-container-id-1 div.sk-label.fitted input.sk-toggleable__control:checked~label.sk-toggleable__label {\n",
       "  background-color: var(--sklearn-color-fitted-level-2);\n",
       "}\n",
       "\n",
       "/* Estimator-specific style */\n",
       "\n",
       "/* Colorize estimator box */\n",
       "#sk-container-id-1 div.sk-estimator input.sk-toggleable__control:checked~label.sk-toggleable__label {\n",
       "  /* unfitted */\n",
       "  background-color: var(--sklearn-color-unfitted-level-2);\n",
       "}\n",
       "\n",
       "#sk-container-id-1 div.sk-estimator.fitted input.sk-toggleable__control:checked~label.sk-toggleable__label {\n",
       "  /* fitted */\n",
       "  background-color: var(--sklearn-color-fitted-level-2);\n",
       "}\n",
       "\n",
       "#sk-container-id-1 div.sk-label label.sk-toggleable__label,\n",
       "#sk-container-id-1 div.sk-label label {\n",
       "  /* The background is the default theme color */\n",
       "  color: var(--sklearn-color-text-on-default-background);\n",
       "}\n",
       "\n",
       "/* On hover, darken the color of the background */\n",
       "#sk-container-id-1 div.sk-label:hover label.sk-toggleable__label {\n",
       "  color: var(--sklearn-color-text);\n",
       "  background-color: var(--sklearn-color-unfitted-level-2);\n",
       "}\n",
       "\n",
       "/* Label box, darken color on hover, fitted */\n",
       "#sk-container-id-1 div.sk-label.fitted:hover label.sk-toggleable__label.fitted {\n",
       "  color: var(--sklearn-color-text);\n",
       "  background-color: var(--sklearn-color-fitted-level-2);\n",
       "}\n",
       "\n",
       "/* Estimator label */\n",
       "\n",
       "#sk-container-id-1 div.sk-label label {\n",
       "  font-family: monospace;\n",
       "  font-weight: bold;\n",
       "  display: inline-block;\n",
       "  line-height: 1.2em;\n",
       "}\n",
       "\n",
       "#sk-container-id-1 div.sk-label-container {\n",
       "  text-align: center;\n",
       "}\n",
       "\n",
       "/* Estimator-specific */\n",
       "#sk-container-id-1 div.sk-estimator {\n",
       "  font-family: monospace;\n",
       "  border: 1px dotted var(--sklearn-color-border-box);\n",
       "  border-radius: 0.25em;\n",
       "  box-sizing: border-box;\n",
       "  margin-bottom: 0.5em;\n",
       "  /* unfitted */\n",
       "  background-color: var(--sklearn-color-unfitted-level-0);\n",
       "}\n",
       "\n",
       "#sk-container-id-1 div.sk-estimator.fitted {\n",
       "  /* fitted */\n",
       "  background-color: var(--sklearn-color-fitted-level-0);\n",
       "}\n",
       "\n",
       "/* on hover */\n",
       "#sk-container-id-1 div.sk-estimator:hover {\n",
       "  /* unfitted */\n",
       "  background-color: var(--sklearn-color-unfitted-level-2);\n",
       "}\n",
       "\n",
       "#sk-container-id-1 div.sk-estimator.fitted:hover {\n",
       "  /* fitted */\n",
       "  background-color: var(--sklearn-color-fitted-level-2);\n",
       "}\n",
       "\n",
       "/* Specification for estimator info (e.g. \"i\" and \"?\") */\n",
       "\n",
       "/* Common style for \"i\" and \"?\" */\n",
       "\n",
       ".sk-estimator-doc-link,\n",
       "a:link.sk-estimator-doc-link,\n",
       "a:visited.sk-estimator-doc-link {\n",
       "  float: right;\n",
       "  font-size: smaller;\n",
       "  line-height: 1em;\n",
       "  font-family: monospace;\n",
       "  background-color: var(--sklearn-color-background);\n",
       "  border-radius: 1em;\n",
       "  height: 1em;\n",
       "  width: 1em;\n",
       "  text-decoration: none !important;\n",
       "  margin-left: 1ex;\n",
       "  /* unfitted */\n",
       "  border: var(--sklearn-color-unfitted-level-1) 1pt solid;\n",
       "  color: var(--sklearn-color-unfitted-level-1);\n",
       "}\n",
       "\n",
       ".sk-estimator-doc-link.fitted,\n",
       "a:link.sk-estimator-doc-link.fitted,\n",
       "a:visited.sk-estimator-doc-link.fitted {\n",
       "  /* fitted */\n",
       "  border: var(--sklearn-color-fitted-level-1) 1pt solid;\n",
       "  color: var(--sklearn-color-fitted-level-1);\n",
       "}\n",
       "\n",
       "/* On hover */\n",
       "div.sk-estimator:hover .sk-estimator-doc-link:hover,\n",
       ".sk-estimator-doc-link:hover,\n",
       "div.sk-label-container:hover .sk-estimator-doc-link:hover,\n",
       ".sk-estimator-doc-link:hover {\n",
       "  /* unfitted */\n",
       "  background-color: var(--sklearn-color-unfitted-level-3);\n",
       "  color: var(--sklearn-color-background);\n",
       "  text-decoration: none;\n",
       "}\n",
       "\n",
       "div.sk-estimator.fitted:hover .sk-estimator-doc-link.fitted:hover,\n",
       ".sk-estimator-doc-link.fitted:hover,\n",
       "div.sk-label-container:hover .sk-estimator-doc-link.fitted:hover,\n",
       ".sk-estimator-doc-link.fitted:hover {\n",
       "  /* fitted */\n",
       "  background-color: var(--sklearn-color-fitted-level-3);\n",
       "  color: var(--sklearn-color-background);\n",
       "  text-decoration: none;\n",
       "}\n",
       "\n",
       "/* Span, style for the box shown on hovering the info icon */\n",
       ".sk-estimator-doc-link span {\n",
       "  display: none;\n",
       "  z-index: 9999;\n",
       "  position: relative;\n",
       "  font-weight: normal;\n",
       "  right: .2ex;\n",
       "  padding: .5ex;\n",
       "  margin: .5ex;\n",
       "  width: min-content;\n",
       "  min-width: 20ex;\n",
       "  max-width: 50ex;\n",
       "  color: var(--sklearn-color-text);\n",
       "  box-shadow: 2pt 2pt 4pt #999;\n",
       "  /* unfitted */\n",
       "  background: var(--sklearn-color-unfitted-level-0);\n",
       "  border: .5pt solid var(--sklearn-color-unfitted-level-3);\n",
       "}\n",
       "\n",
       ".sk-estimator-doc-link.fitted span {\n",
       "  /* fitted */\n",
       "  background: var(--sklearn-color-fitted-level-0);\n",
       "  border: var(--sklearn-color-fitted-level-3);\n",
       "}\n",
       "\n",
       ".sk-estimator-doc-link:hover span {\n",
       "  display: block;\n",
       "}\n",
       "\n",
       "/* \"?\"-specific style due to the `<a>` HTML tag */\n",
       "\n",
       "#sk-container-id-1 a.estimator_doc_link {\n",
       "  float: right;\n",
       "  font-size: 1rem;\n",
       "  line-height: 1em;\n",
       "  font-family: monospace;\n",
       "  background-color: var(--sklearn-color-background);\n",
       "  border-radius: 1rem;\n",
       "  height: 1rem;\n",
       "  width: 1rem;\n",
       "  text-decoration: none;\n",
       "  /* unfitted */\n",
       "  color: var(--sklearn-color-unfitted-level-1);\n",
       "  border: var(--sklearn-color-unfitted-level-1) 1pt solid;\n",
       "}\n",
       "\n",
       "#sk-container-id-1 a.estimator_doc_link.fitted {\n",
       "  /* fitted */\n",
       "  border: var(--sklearn-color-fitted-level-1) 1pt solid;\n",
       "  color: var(--sklearn-color-fitted-level-1);\n",
       "}\n",
       "\n",
       "/* On hover */\n",
       "#sk-container-id-1 a.estimator_doc_link:hover {\n",
       "  /* unfitted */\n",
       "  background-color: var(--sklearn-color-unfitted-level-3);\n",
       "  color: var(--sklearn-color-background);\n",
       "  text-decoration: none;\n",
       "}\n",
       "\n",
       "#sk-container-id-1 a.estimator_doc_link.fitted:hover {\n",
       "  /* fitted */\n",
       "  background-color: var(--sklearn-color-fitted-level-3);\n",
       "}\n",
       "</style><div id=\"sk-container-id-1\" class=\"sk-top-container\"><div class=\"sk-text-repr-fallback\"><pre>MLPClassifier(random_state=0)</pre><b>In a Jupyter environment, please rerun this cell to show the HTML representation or trust the notebook. <br />On GitHub, the HTML representation is unable to render, please try loading this page with nbviewer.org.</b></div><div class=\"sk-container\" hidden><div class=\"sk-item\"><div class=\"sk-estimator fitted sk-toggleable\"><input class=\"sk-toggleable__control sk-hidden--visually\" id=\"sk-estimator-id-1\" type=\"checkbox\" checked><label for=\"sk-estimator-id-1\" class=\"sk-toggleable__label fitted sk-toggleable__label-arrow fitted\">&nbsp;&nbsp;MLPClassifier<a class=\"sk-estimator-doc-link fitted\" rel=\"noreferrer\" target=\"_blank\" href=\"https://scikit-learn.org/1.5/modules/generated/sklearn.neural_network.MLPClassifier.html\">?<span>Documentation for MLPClassifier</span></a><span class=\"sk-estimator-doc-link fitted\">i<span>Fitted</span></span></label><div class=\"sk-toggleable__content fitted\"><pre>MLPClassifier(random_state=0)</pre></div> </div></div></div></div>"
      ],
      "text/plain": [
       "MLPClassifier(random_state=0)"
      ]
     },
     "execution_count": 51,
     "metadata": {},
     "output_type": "execute_result"
    }
   ],
   "source": [
    "mlp_count.fit(x_train_cv, y_train)\n",
    "mlp_tfidf.fit(x_train_tfidf, y_train)\n",
    "mlp_onehot.fit(x_train_cv, y_train) "
   ]
  },
  {
   "cell_type": "markdown",
   "id": "f42179c1",
   "metadata": {},
   "source": [
    "prediction (training)"
   ]
  },
  {
   "cell_type": "code",
   "execution_count": 52,
   "id": "e44797e8",
   "metadata": {},
   "outputs": [],
   "source": [
    "y_train_pred_count = mlp_count.predict(x_train_cv)\n",
    "y_train_pred_tfidf = mlp_tfidf.predict(x_train_tfidf)\n",
    "y_train_pred_onehot = mlp_onehot.predict(x_train_cv)"
   ]
  },
  {
   "cell_type": "markdown",
   "id": "2e97f481",
   "metadata": {},
   "source": [
    "rapport de classification"
   ]
  },
  {
   "cell_type": "code",
   "execution_count": 53,
   "id": "e9b521a8",
   "metadata": {},
   "outputs": [
    {
     "name": "stdout",
     "output_type": "stream",
     "text": [
      "count vectorizer model:\n",
      "              precision    recall  f1-score   support\n",
      "\n",
      "           0       1.00      1.00      1.00      5529\n",
      "           1       1.00      1.00      1.00      3944\n",
      "           2       1.00      1.00      1.00      4230\n",
      "\n",
      "    accuracy                           1.00     13703\n",
      "   macro avg       1.00      1.00      1.00     13703\n",
      "weighted avg       1.00      1.00      1.00     13703\n",
      "\n"
     ]
    }
   ],
   "source": [
    "print(\"count vectorizer model:\")\n",
    "print(classification_report(y_train, y_train_pred_count))"
   ]
  },
  {
   "cell_type": "code",
   "execution_count": 54,
   "id": "9e55bb64",
   "metadata": {},
   "outputs": [
    {
     "name": "stdout",
     "output_type": "stream",
     "text": [
      "tfidf vectorizer model:\n",
      "              precision    recall  f1-score   support\n",
      "\n",
      "           0       1.00      1.00      1.00      5529\n",
      "           1       1.00      1.00      1.00      3944\n",
      "           2       1.00      1.00      1.00      4230\n",
      "\n",
      "    accuracy                           1.00     13703\n",
      "   macro avg       1.00      1.00      1.00     13703\n",
      "weighted avg       1.00      1.00      1.00     13703\n",
      "\n"
     ]
    }
   ],
   "source": [
    "print(\"tfidf vectorizer model:\")\n",
    "print(classification_report(y_train, y_train_pred_tfidf))"
   ]
  },
  {
   "cell_type": "code",
   "execution_count": 55,
   "id": "7cac619f",
   "metadata": {},
   "outputs": [
    {
     "name": "stdout",
     "output_type": "stream",
     "text": [
      "one-hot encoding model:\n",
      "              precision    recall  f1-score   support\n",
      "\n",
      "           0       1.00      1.00      1.00      5529\n",
      "           1       1.00      1.00      1.00      3944\n",
      "           2       1.00      1.00      1.00      4230\n",
      "\n",
      "    accuracy                           1.00     13703\n",
      "   macro avg       1.00      1.00      1.00     13703\n",
      "weighted avg       1.00      1.00      1.00     13703\n",
      "\n"
     ]
    }
   ],
   "source": [
    "print(\"one-hot encoding model:\")\n",
    "print(classification_report(y_train, y_train_pred_onehot))"
   ]
  },
  {
   "cell_type": "markdown",
   "id": "b7155d65",
   "metadata": {},
   "source": [
    "## F. test"
   ]
  },
  {
   "cell_type": "markdown",
   "id": "5852cad6",
   "metadata": {},
   "source": [
    "prediction (test)"
   ]
  },
  {
   "cell_type": "code",
   "execution_count": 56,
   "id": "c1a739bf",
   "metadata": {},
   "outputs": [],
   "source": [
    "y_test_pred_count = mlp_count.predict(x_test_cv)\n",
    "y_test_pred_tfidf = mlp_tfidf.predict(x_test_tfidf)\n",
    "y_test_pred_onehot = mlp_onehot.predict(x_test_cv)"
   ]
  },
  {
   "cell_type": "markdown",
   "id": "41585c2c",
   "metadata": {},
   "source": [
    "rapport de classification"
   ]
  },
  {
   "cell_type": "code",
   "execution_count": 57,
   "id": "e7767ea5",
   "metadata": {},
   "outputs": [
    {
     "name": "stdout",
     "output_type": "stream",
     "text": [
      "count vectorizer model (test):\n",
      "              precision    recall  f1-score   support\n",
      "\n",
      "           0       0.74      0.74      0.74      2369\n",
      "           1       0.77      0.71      0.74      1691\n",
      "           2       0.71      0.76      0.73      1813\n",
      "\n",
      "    accuracy                           0.74      5873\n",
      "   macro avg       0.74      0.74      0.74      5873\n",
      "weighted avg       0.74      0.74      0.74      5873\n",
      "\n"
     ]
    }
   ],
   "source": [
    "print(\"count vectorizer model (test):\")\n",
    "print(classification_report(y_test, y_test_pred_count))"
   ]
  },
  {
   "cell_type": "code",
   "execution_count": 58,
   "id": "17153f61",
   "metadata": {},
   "outputs": [
    {
     "name": "stdout",
     "output_type": "stream",
     "text": [
      "tfidf vectorizer model (test):\n",
      "              precision    recall  f1-score   support\n",
      "\n",
      "           0       0.78      0.78      0.78      2369\n",
      "           1       0.80      0.77      0.79      1691\n",
      "           2       0.76      0.79      0.77      1813\n",
      "\n",
      "    accuracy                           0.78      5873\n",
      "   macro avg       0.78      0.78      0.78      5873\n",
      "weighted avg       0.78      0.78      0.78      5873\n",
      "\n"
     ]
    }
   ],
   "source": [
    "print(\"tfidf vectorizer model (test):\")\n",
    "print(classification_report(y_test, y_test_pred_tfidf))"
   ]
  },
  {
   "cell_type": "code",
   "execution_count": 59,
   "id": "7679e16d",
   "metadata": {},
   "outputs": [
    {
     "name": "stdout",
     "output_type": "stream",
     "text": [
      "one-hot encoding model (test):\n",
      "              precision    recall  f1-score   support\n",
      "\n",
      "           0       0.74      0.74      0.74      2369\n",
      "           1       0.77      0.71      0.74      1691\n",
      "           2       0.71      0.76      0.73      1813\n",
      "\n",
      "    accuracy                           0.74      5873\n",
      "   macro avg       0.74      0.74      0.74      5873\n",
      "weighted avg       0.74      0.74      0.74      5873\n",
      "\n"
     ]
    }
   ],
   "source": [
    "print(\"one-hot encoding model (test):\")\n",
    "print(classification_report(y_test, y_test_pred_onehot))"
   ]
  },
  {
   "cell_type": "markdown",
   "id": "29e656a8",
   "metadata": {},
   "source": [
    "temps de prediction"
   ]
  },
  {
   "cell_type": "code",
   "execution_count": 60,
   "id": "8eb1d198",
   "metadata": {},
   "outputs": [
    {
     "name": "stdout",
     "output_type": "stream",
     "text": [
      "count vectorizer prediction time: 0.02947688102722168 seconds\n"
     ]
    }
   ],
   "source": [
    "start_time = time.time()\n",
    "mlp_count.predict(x_test_cv)\n",
    "print(f\"count vectorizer prediction time: {time.time() - start_time} seconds\")\n"
   ]
  },
  {
   "cell_type": "code",
   "execution_count": 61,
   "id": "134fdd65",
   "metadata": {},
   "outputs": [
    {
     "name": "stdout",
     "output_type": "stream",
     "text": [
      "tfidf vectorizer prediction time: 0.029552936553955078 seconds\n"
     ]
    }
   ],
   "source": [
    "start_time = time.time()\n",
    "mlp_tfidf.predict(x_test_tfidf)\n",
    "print(f\"tfidf vectorizer prediction time: {time.time() - start_time} seconds\")"
   ]
  },
  {
   "cell_type": "code",
   "execution_count": 62,
   "id": "5514c822",
   "metadata": {},
   "outputs": [
    {
     "name": "stdout",
     "output_type": "stream",
     "text": [
      "One-Hot Encoding Prediction Time: 0.013795137405395508 seconds\n"
     ]
    }
   ],
   "source": [
    "start_time = time.time()\n",
    "mlp_onehot.predict(x_test_cv)\n",
    "print(f\"One-Hot Encoding Prediction Time: {time.time() - start_time} seconds\")"
   ]
  },
  {
   "cell_type": "markdown",
   "id": "b48c4902",
   "metadata": {},
   "source": [
    "## G. vectorisation (embeddings de mots)"
   ]
  },
  {
   "cell_type": "markdown",
   "id": "9b0f4fb3",
   "metadata": {},
   "source": [
    "word2vec"
   ]
  },
  {
   "cell_type": "code",
   "execution_count": 63,
   "id": "47ef4802",
   "metadata": {},
   "outputs": [],
   "source": [
    "tokenized_text = [sentence.split() for sentence in x_train]\n",
    "\n",
    "word2vec_model = Word2Vec(sentences=tokenized_text, vector_size=100, window=5, min_count=1, workers=4)\n",
    "\n",
    "def vectorize_text(text, model):\n",
    "    vectors = [model.wv[word] for word in text if word in model.wv]\n",
    "    return sum(vectors) / len(vectors) if vectors else [0] * model.vector_size\n",
    "\n",
    "x_train_word2vec = [vectorize_text(text, word2vec_model) for text in tokenized_text]"
   ]
  },
  {
   "cell_type": "markdown",
   "id": "34099f32",
   "metadata": {},
   "source": [
    "glove"
   ]
  },
  {
   "cell_type": "markdown",
   "id": "df53f4ad",
   "metadata": {},
   "source": [
    "fastText"
   ]
  },
  {
   "cell_type": "code",
   "execution_count": 64,
   "id": "d2df980c",
   "metadata": {},
   "outputs": [],
   "source": [
    "fasttext_model = FastText(sentences=tokenized_text, vector_size=100, window=5, min_count=1, workers=4)\n",
    "\n",
    "x_train_fasttext = [vectorize_text(text, fasttext_model) for text in tokenized_text]"
   ]
  },
  {
   "cell_type": "markdown",
   "id": "84fd71cb",
   "metadata": {},
   "source": [
    "## H. entrainement/test"
   ]
  },
  {
   "cell_type": "code",
   "execution_count": 65,
   "id": "77f46267",
   "metadata": {},
   "outputs": [],
   "source": [
    "def get_average_vector(text, model):\n",
    "    words = word_tokenize(text)\n",
    "    vectors = [model.wv[word] for word in words if word in model.wv]\n",
    "    return np.mean(vectors, axis=0) if vectors else np.zeros(model.vector_size)"
   ]
  },
  {
   "cell_type": "code",
   "execution_count": 66,
   "id": "305a8d73",
   "metadata": {},
   "outputs": [],
   "source": [
    "x_train_word2vec = np.vstack([get_average_vector(text, word2vec_model) for text in x_train])\n",
    "x_test_word2vec = np.vstack([get_average_vector(text, word2vec_model) for text in x_test])"
   ]
  },
  {
   "cell_type": "code",
   "execution_count": 67,
   "id": "c381a537",
   "metadata": {},
   "outputs": [],
   "source": [
    "x_train_fasttext = np.vstack([get_average_vector(text, fasttext_model) for text in x_train])\n",
    "x_test_fasttext = np.vstack([get_average_vector(text, fasttext_model) for text in x_test])"
   ]
  },
  {
   "cell_type": "markdown",
   "id": "851ee45b",
   "metadata": {},
   "source": [
    "result"
   ]
  },
  {
   "cell_type": "code",
   "execution_count": 68,
   "id": "ac5f8b33",
   "metadata": {},
   "outputs": [],
   "source": [
    "def train_and_evaluate(X_train, X_test, y_train, y_test):\n",
    "    mlp = MLPClassifier(hidden_layer_sizes=(100,), max_iter=300, random_state=0)\n",
    "    mlp.fit(X_train, y_train)\n",
    "    \n",
    "    y_train_pred = mlp.predict(X_train)\n",
    "    y_test_pred = mlp.predict(X_test)\n",
    "    \n",
    "    print(\"Train Classification Report:\")\n",
    "    print(classification_report(y_train, y_train_pred))\n",
    "    print(\"Test Classification Report:\")\n",
    "    print(classification_report(y_test, y_test_pred))\n",
    "    \n",
    "    start_time = time.time()\n",
    "    mlp.predict(X_test)\n",
    "    print(f\"Prediction time: {time.time() - start_time:.5f} seconds\")"
   ]
  },
  {
   "cell_type": "code",
   "execution_count": 69,
   "id": "c1c7aad0",
   "metadata": {},
   "outputs": [
    {
     "name": "stdout",
     "output_type": "stream",
     "text": [
      "Word2Vec Results:\n",
      "Train Classification Report:\n",
      "              precision    recall  f1-score   support\n",
      "\n",
      "           0       0.40      1.00      0.57      5529\n",
      "           1       0.00      0.00      0.00      3944\n",
      "           2       0.00      0.00      0.00      4230\n",
      "\n",
      "    accuracy                           0.40     13703\n",
      "   macro avg       0.13      0.33      0.19     13703\n",
      "weighted avg       0.16      0.40      0.23     13703\n",
      "\n",
      "Test Classification Report:\n",
      "              precision    recall  f1-score   support\n",
      "\n",
      "           0       0.40      1.00      0.57      2369\n",
      "           1       0.00      0.00      0.00      1691\n",
      "           2       0.00      0.00      0.00      1813\n",
      "\n",
      "    accuracy                           0.40      5873\n",
      "   macro avg       0.13      0.33      0.19      5873\n",
      "weighted avg       0.16      0.40      0.23      5873\n",
      "\n",
      "Prediction time: 0.00778 seconds\n"
     ]
    },
    {
     "name": "stderr",
     "output_type": "stream",
     "text": [
      "/home/mina/anaconda3/lib/python3.12/site-packages/sklearn/metrics/_classification.py:1531: UndefinedMetricWarning: Precision is ill-defined and being set to 0.0 in labels with no predicted samples. Use `zero_division` parameter to control this behavior.\n",
      "  _warn_prf(average, modifier, f\"{metric.capitalize()} is\", len(result))\n",
      "/home/mina/anaconda3/lib/python3.12/site-packages/sklearn/metrics/_classification.py:1531: UndefinedMetricWarning: Precision is ill-defined and being set to 0.0 in labels with no predicted samples. Use `zero_division` parameter to control this behavior.\n",
      "  _warn_prf(average, modifier, f\"{metric.capitalize()} is\", len(result))\n",
      "/home/mina/anaconda3/lib/python3.12/site-packages/sklearn/metrics/_classification.py:1531: UndefinedMetricWarning: Precision is ill-defined and being set to 0.0 in labels with no predicted samples. Use `zero_division` parameter to control this behavior.\n",
      "  _warn_prf(average, modifier, f\"{metric.capitalize()} is\", len(result))\n",
      "/home/mina/anaconda3/lib/python3.12/site-packages/sklearn/metrics/_classification.py:1531: UndefinedMetricWarning: Precision is ill-defined and being set to 0.0 in labels with no predicted samples. Use `zero_division` parameter to control this behavior.\n",
      "  _warn_prf(average, modifier, f\"{metric.capitalize()} is\", len(result))\n",
      "/home/mina/anaconda3/lib/python3.12/site-packages/sklearn/metrics/_classification.py:1531: UndefinedMetricWarning: Precision is ill-defined and being set to 0.0 in labels with no predicted samples. Use `zero_division` parameter to control this behavior.\n",
      "  _warn_prf(average, modifier, f\"{metric.capitalize()} is\", len(result))\n",
      "/home/mina/anaconda3/lib/python3.12/site-packages/sklearn/metrics/_classification.py:1531: UndefinedMetricWarning: Precision is ill-defined and being set to 0.0 in labels with no predicted samples. Use `zero_division` parameter to control this behavior.\n",
      "  _warn_prf(average, modifier, f\"{metric.capitalize()} is\", len(result))\n"
     ]
    }
   ],
   "source": [
    "print(\"Word2Vec Results:\")\n",
    "train_and_evaluate(x_train_word2vec, x_test_word2vec, y_train, y_test)"
   ]
  },
  {
   "cell_type": "code",
   "execution_count": 70,
   "id": "6d95f203",
   "metadata": {},
   "outputs": [
    {
     "name": "stdout",
     "output_type": "stream",
     "text": [
      "FastText Results:\n",
      "Train Classification Report:\n",
      "              precision    recall  f1-score   support\n",
      "\n",
      "           0       0.40      0.98      0.57      5529\n",
      "           1       0.67      0.00      0.00      3944\n",
      "           2       0.33      0.02      0.03      4230\n",
      "\n",
      "    accuracy                           0.40     13703\n",
      "   macro avg       0.47      0.33      0.20     13703\n",
      "weighted avg       0.46      0.40      0.24     13703\n",
      "\n",
      "Test Classification Report:\n",
      "              precision    recall  f1-score   support\n",
      "\n",
      "           0       0.40      0.98      0.57      2369\n",
      "           1       0.00      0.00      0.00      1691\n",
      "           2       0.29      0.02      0.03      1813\n",
      "\n",
      "    accuracy                           0.40      5873\n",
      "   macro avg       0.23      0.33      0.20      5873\n",
      "weighted avg       0.25      0.40      0.24      5873\n",
      "\n",
      "Prediction time: 0.01157 seconds\n"
     ]
    }
   ],
   "source": [
    "print(\"FastText Results:\")\n",
    "train_and_evaluate(x_train_fasttext, x_test_fasttext, y_train, y_test)"
   ]
  }
 ],
 "metadata": {
  "kernelspec": {
   "display_name": "base",
   "language": "python",
   "name": "python3"
  },
  "language_info": {
   "codemirror_mode": {
    "name": "ipython",
    "version": 3
   },
   "file_extension": ".py",
   "mimetype": "text/x-python",
   "name": "python",
   "nbconvert_exporter": "python",
   "pygments_lexer": "ipython3",
   "version": "3.12.4"
  }
 },
 "nbformat": 4,
 "nbformat_minor": 5
}
