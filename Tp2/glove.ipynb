{
 "cells": [
  {
   "cell_type": "markdown",
   "id": "f11f7bcb",
   "metadata": {},
   "source": [
    "# feature extraction and embeddings"
   ]
  },
  {
   "cell_type": "code",
   "execution_count": 60,
   "id": "9662dfb3",
   "metadata": {},
   "outputs": [],
   "source": [
    "from sklearn.feature_extraction.text import CountVectorizer, TfidfVectorizer\n",
    "from sklearn.model_selection import GridSearchCV, cross_val_score\n",
    "from sklearn.metrics import classification_report, accuracy_score\n",
    "from sklearn.preprocessing import OneHotEncoder, LabelEncoder\n",
    "from sklearn.feature_extraction.text import CountVectorizer\n",
    "from gensim.scripts.glove2word2vec import glove2word2vec\n",
    "from nltk.tokenize import word_tokenize, sent_tokenize\n",
    "from sklearn.model_selection import train_test_split\n",
    "from gensim.models.keyedvectors import KeyedVectors\n",
    "from sklearn.preprocessing import StandardScaler\n",
    "from sklearn.neural_network import MLPClassifier\n",
    "from gensim.models import Word2Vec, FastText\n",
    "from sklearn.pipeline import Pipeline\n",
    "from collections import defaultdict\n",
    "from sklearn.svm import LinearSVC\n",
    "import gensim.downloader as api\n",
    "import pandas as pd\n",
    "import numpy as np\n",
    "import random\n",
    "import time"
   ]
  },
  {
   "cell_type": "markdown",
   "id": "3ccbee45",
   "metadata": {},
   "source": [
    "## A. preparation de donnees"
   ]
  },
  {
   "cell_type": "code",
   "execution_count": 2,
   "id": "09f9e7a5",
   "metadata": {},
   "outputs": [],
   "source": [
    "df = pd.read_csv('./spooky.csv')"
   ]
  },
  {
   "cell_type": "code",
   "execution_count": 3,
   "id": "85ae625c-af86-4662-8f70-f3ee19462663",
   "metadata": {},
   "outputs": [
    {
     "data": {
      "text/html": [
       "<div>\n",
       "<style scoped>\n",
       "    .dataframe tbody tr th:only-of-type {\n",
       "        vertical-align: middle;\n",
       "    }\n",
       "\n",
       "    .dataframe tbody tr th {\n",
       "        vertical-align: top;\n",
       "    }\n",
       "\n",
       "    .dataframe thead th {\n",
       "        text-align: right;\n",
       "    }\n",
       "</style>\n",
       "<table border=\"1\" class=\"dataframe\">\n",
       "  <thead>\n",
       "    <tr style=\"text-align: right;\">\n",
       "      <th></th>\n",
       "      <th>id</th>\n",
       "      <th>text</th>\n",
       "      <th>author</th>\n",
       "    </tr>\n",
       "  </thead>\n",
       "  <tbody>\n",
       "    <tr>\n",
       "      <th>0</th>\n",
       "      <td>id26305</td>\n",
       "      <td>this proces however afforded me no means of as...</td>\n",
       "      <td>EAP</td>\n",
       "    </tr>\n",
       "    <tr>\n",
       "      <th>1</th>\n",
       "      <td>id17569</td>\n",
       "      <td>it never once occurred to me that the fumbling...</td>\n",
       "      <td>HPL</td>\n",
       "    </tr>\n",
       "    <tr>\n",
       "      <th>2</th>\n",
       "      <td>id11008</td>\n",
       "      <td>in his left hand was a gold snuff box from whi...</td>\n",
       "      <td>EAP</td>\n",
       "    </tr>\n",
       "    <tr>\n",
       "      <th>3</th>\n",
       "      <td>id27763</td>\n",
       "      <td>how lovely is spring as we looked from windsor...</td>\n",
       "      <td>MWS</td>\n",
       "    </tr>\n",
       "    <tr>\n",
       "      <th>4</th>\n",
       "      <td>id12958</td>\n",
       "      <td>finding nothing else not even gold the superin...</td>\n",
       "      <td>HPL</td>\n",
       "    </tr>\n",
       "  </tbody>\n",
       "</table>\n",
       "</div>"
      ],
      "text/plain": [
       "        id                                               text author\n",
       "0  id26305  this proces however afforded me no means of as...    EAP\n",
       "1  id17569  it never once occurred to me that the fumbling...    HPL\n",
       "2  id11008  in his left hand was a gold snuff box from whi...    EAP\n",
       "3  id27763  how lovely is spring as we looked from windsor...    MWS\n",
       "4  id12958  finding nothing else not even gold the superin...    HPL"
      ]
     },
     "execution_count": 3,
     "metadata": {},
     "output_type": "execute_result"
    }
   ],
   "source": [
    "df.head()"
   ]
  },
  {
   "cell_type": "code",
   "execution_count": 4,
   "id": "281c849d",
   "metadata": {},
   "outputs": [
    {
     "data": {
      "text/plain": [
       "0"
      ]
     },
     "execution_count": 4,
     "metadata": {},
     "output_type": "execute_result"
    }
   ],
   "source": [
    "df['text'].isnull().sum()"
   ]
  },
  {
   "cell_type": "markdown",
   "id": "218f3f87",
   "metadata": {},
   "source": [
    "## B. encodage de la variable a predire (facultatif)"
   ]
  },
  {
   "cell_type": "code",
   "execution_count": 5,
   "id": "67a2c53f",
   "metadata": {},
   "outputs": [],
   "source": [
    "label_encoder = LabelEncoder()\n",
    "df['author_encoded'] = label_encoder.fit_transform(df['author'])"
   ]
  },
  {
   "cell_type": "code",
   "execution_count": 6,
   "id": "fac1cc25-94ba-4d9f-b30b-d36fd365b4b1",
   "metadata": {},
   "outputs": [
    {
     "data": {
      "text/html": [
       "<div>\n",
       "<style scoped>\n",
       "    .dataframe tbody tr th:only-of-type {\n",
       "        vertical-align: middle;\n",
       "    }\n",
       "\n",
       "    .dataframe tbody tr th {\n",
       "        vertical-align: top;\n",
       "    }\n",
       "\n",
       "    .dataframe thead th {\n",
       "        text-align: right;\n",
       "    }\n",
       "</style>\n",
       "<table border=\"1\" class=\"dataframe\">\n",
       "  <thead>\n",
       "    <tr style=\"text-align: right;\">\n",
       "      <th></th>\n",
       "      <th>id</th>\n",
       "      <th>text</th>\n",
       "      <th>author</th>\n",
       "      <th>author_encoded</th>\n",
       "    </tr>\n",
       "  </thead>\n",
       "  <tbody>\n",
       "    <tr>\n",
       "      <th>0</th>\n",
       "      <td>id26305</td>\n",
       "      <td>this proces however afforded me no means of as...</td>\n",
       "      <td>EAP</td>\n",
       "      <td>0</td>\n",
       "    </tr>\n",
       "    <tr>\n",
       "      <th>1</th>\n",
       "      <td>id17569</td>\n",
       "      <td>it never once occurred to me that the fumbling...</td>\n",
       "      <td>HPL</td>\n",
       "      <td>1</td>\n",
       "    </tr>\n",
       "    <tr>\n",
       "      <th>2</th>\n",
       "      <td>id11008</td>\n",
       "      <td>in his left hand was a gold snuff box from whi...</td>\n",
       "      <td>EAP</td>\n",
       "      <td>0</td>\n",
       "    </tr>\n",
       "    <tr>\n",
       "      <th>3</th>\n",
       "      <td>id27763</td>\n",
       "      <td>how lovely is spring as we looked from windsor...</td>\n",
       "      <td>MWS</td>\n",
       "      <td>2</td>\n",
       "    </tr>\n",
       "    <tr>\n",
       "      <th>4</th>\n",
       "      <td>id12958</td>\n",
       "      <td>finding nothing else not even gold the superin...</td>\n",
       "      <td>HPL</td>\n",
       "      <td>1</td>\n",
       "    </tr>\n",
       "  </tbody>\n",
       "</table>\n",
       "</div>"
      ],
      "text/plain": [
       "        id                                               text author  \\\n",
       "0  id26305  this proces however afforded me no means of as...    EAP   \n",
       "1  id17569  it never once occurred to me that the fumbling...    HPL   \n",
       "2  id11008  in his left hand was a gold snuff box from whi...    EAP   \n",
       "3  id27763  how lovely is spring as we looked from windsor...    MWS   \n",
       "4  id12958  finding nothing else not even gold the superin...    HPL   \n",
       "\n",
       "   author_encoded  \n",
       "0               0  \n",
       "1               1  \n",
       "2               0  \n",
       "3               2  \n",
       "4               1  "
      ]
     },
     "execution_count": 6,
     "metadata": {},
     "output_type": "execute_result"
    }
   ],
   "source": [
    "df.head()"
   ]
  },
  {
   "cell_type": "markdown",
   "id": "715b98b0-cb05-4f07-a5df-2083251ead79",
   "metadata": {},
   "source": [
    "\n",
    "\n",
    "\n",
    "\n",
    "\n",
    "\n",
    "\n",
    "\n",
    "## C. construction des bases d’entraînement et de test"
   ]
  },
  {
   "cell_type": "markdown",
   "id": "f082cacd-87b6-4793-aa4b-6f7dc192accc",
   "metadata": {},
   "source": [
    " tarining & test dataset"
   ]
  },
  {
   "cell_type": "code",
   "execution_count": 7,
   "id": "7f5e75eb-1bfa-4ffd-97aa-8e902630aaf6",
   "metadata": {},
   "outputs": [],
   "source": [
    "x_train, x_test, y_train, y_test = train_test_split(df['text'], df['author_encoded'], test_size=0.3, random_state=0, stratify = df['author_encoded'])"
   ]
  },
  {
   "cell_type": "code",
   "execution_count": 8,
   "id": "6e746603",
   "metadata": {},
   "outputs": [
    {
     "data": {
      "text/plain": [
       "8446     upon these two words therefore i have mainly b...\n",
       "15332    i had the good fortune to recollect that in th...\n",
       "4486     each one of a gang so placed is not so much gr...\n",
       "19359         if he were vanquished i should be a free man\n",
       "6440     among a multitude of opinions upon this delica...\n",
       "                               ...                        \n",
       "7389     at these times he would shew a sardonic humour...\n",
       "15422    made sign talk as soon as they got over bein s...\n",
       "2581      there was no discoloration in the cellular tisue\n",
       "4597                        his forehead was broad and low\n",
       "1951     as i perused this i felt myself growing gradua...\n",
       "Name: text, Length: 13705, dtype: object"
      ]
     },
     "execution_count": 8,
     "metadata": {},
     "output_type": "execute_result"
    }
   ],
   "source": [
    "x_train"
   ]
  },
  {
   "cell_type": "markdown",
   "id": "b48c4902",
   "metadata": {},
   "source": [
    "## G. vectorisation (embeddings de mots)"
   ]
  },
  {
   "cell_type": "markdown",
   "id": "34099f32",
   "metadata": {},
   "source": [
    "glove"
   ]
  },
  {
   "cell_type": "code",
   "execution_count": 10,
   "id": "ea8eaa04",
   "metadata": {},
   "outputs": [
    {
     "name": "stdout",
     "output_type": "stream",
     "text": [
      "save .txt file\n"
     ]
    }
   ],
   "source": [
    "cleaned_df = [sentence.strip().strip('\"') for sentence in x_train]\n",
    "\n",
    "with open(\"corpus.txt\", \"w\", encoding=\"utf-8\") as f:\n",
    "    f.write(\"\\n\".join(cleaned_df))\n",
    "\n",
    "print(\"save .txt file\")\n"
   ]
  },
  {
   "cell_type": "code",
   "execution_count": 24,
   "id": "68984780",
   "metadata": {},
   "outputs": [
    {
     "name": "stdout",
     "output_type": "stream",
     "text": [
      "[Errno 2] No such file or directory: 'GloVe; make'\n",
      "/home/mina/projects/NLP_labs/Tp2/GloVe\n"
     ]
    }
   ],
   "source": [
    "cd GloVe; make"
   ]
  },
  {
   "cell_type": "code",
   "execution_count": 25,
   "id": "87d0dcf0",
   "metadata": {},
   "outputs": [
    {
     "data": {
      "text/plain": [
       "'/home/mina/projects/NLP_labs/Tp2/GloVe'"
      ]
     },
     "execution_count": 25,
     "metadata": {},
     "output_type": "execute_result"
    }
   ],
   "source": [
    "pwd"
   ]
  },
  {
   "cell_type": "markdown",
   "id": "74c1ced1",
   "metadata": {},
   "source": [
    "build vocabulary from corpus.txt"
   ]
  },
  {
   "cell_type": "code",
   "execution_count": 32,
   "id": "f401640e",
   "metadata": {},
   "outputs": [],
   "source": [
    "import subprocess"
   ]
  },
  {
   "cell_type": "code",
   "execution_count": 35,
   "id": "14a5b3d7",
   "metadata": {},
   "outputs": [
    {
     "name": "stdout",
     "output_type": "stream",
     "text": [
      "/home/mina/projects/NLP_labs/Tp2/GloVe\n"
     ]
    },
    {
     "data": {
      "text/plain": [
       "CompletedProcess(args='pwd', returncode=0)"
      ]
     },
     "execution_count": 35,
     "metadata": {},
     "output_type": "execute_result"
    }
   ],
   "source": [
    "subprocess.run('pwd')"
   ]
  },
  {
   "cell_type": "code",
   "execution_count": 49,
   "id": "88f3851a",
   "metadata": {},
   "outputs": [
    {
     "name": "stderr",
     "output_type": "stream",
     "text": [
      "BUILDING VOCABULARY\n",
      "Processed 0 tokens.\u001b[11G100000 tokens.\u001b[11G200000 tokens.\u001b[11G300000 tokens.\u001b[0GProcessed 367653 tokens.\n",
      "Counted 23413 unique words.\n",
      "Truncating vocabulary at min count 5.\n",
      "Using vocabulary of size 6897.\n",
      "\n"
     ]
    }
   ],
   "source": [
    "with open(\"../corpus.txt\", \"r\") as corpus_file, open(\"../vocab.txt\", \"w\") as vocab_file:\n",
    "    subprocess.run([\"build/vocab_count\", \"-min-count\", \"5\", \"-verbose\", \"2\"],\n",
    "                   stdin=corpus_file, stdout=vocab_file, check=True)"
   ]
  },
  {
   "cell_type": "markdown",
   "id": "45be9ff2",
   "metadata": {},
   "source": [
    "generate co-occurrence matrix"
   ]
  },
  {
   "cell_type": "code",
   "execution_count": 52,
   "id": "85cfcc1b",
   "metadata": {},
   "outputs": [
    {
     "name": "stdout",
     "output_type": "stream",
     "text": [
      "common.o  cooccur.o  glove.o   shuffle.o     vocab_count.o\n",
      "\u001b[0m\u001b[01;32mcooccur\u001b[0m*  \u001b[01;32mglove\u001b[0m*     \u001b[01;32mshuffle\u001b[0m*  \u001b[01;32mvocab_count\u001b[0m*\n"
     ]
    }
   ],
   "source": [
    "ls build"
   ]
  },
  {
   "cell_type": "code",
   "execution_count": null,
   "id": "d94ed56c",
   "metadata": {},
   "outputs": [
    {
     "name": "stderr",
     "output_type": "stream",
     "text": [
      "COUNTING COOCCURRENCES\n",
      "window size: 15\n",
      "context: symmetric\n",
      "max product: 10485784\n",
      "overflow length: 28521267\n",
      "Reading vocab from file \"../vocab.txt\"...loaded 6897 words.\n",
      "Building lookup table...table contains 26336491 elements.\n",
      "Processing token: 0\u001b[19G100000\u001b[19G200000\u001b[19G300000\u001b[0GProcessed 367653 tokens.\n",
      "Writing cooccurrences to disk.......2 files in total.\n",
      "Merging cooccurrence files: processed 0 lines.\u001b[39G100000 lines.\u001b[39G200000 lines.\u001b[39G300000 lines.\u001b[39G400000 lines.\u001b[39G500000 lines.\u001b[39G600000 lines.\u001b[39G700000 lines.\u001b[39G800000 lines.\u001b[39G900000 lines.\u001b[39G1000000 lines.\u001b[39G1100000 lines.\u001b[39G1200000 lines.\u001b[39G1300000 lines.\u001b[39G1400000 lines.\u001b[39G1500000 lines.\u001b[39G1600000 lines.\u001b[39G1700000 lines.\u001b[0GMerging cooccurrence files: processed 1762742 lines.\n",
      "\n"
     ]
    },
    {
     "data": {
      "text/plain": [
       "CompletedProcess(args='build/cooccur -window-size 15 -vocab-file ../vocab.txt -verbose 2 < ../corpus.txt > ../cooccurrence.bin', returncode=0)"
      ]
     },
     "execution_count": 54,
     "metadata": {},
     "output_type": "execute_result"
    }
   ],
   "source": [
    "subprocess.run('build/cooccur -window-size 15 -vocab-file ../vocab.txt -verbose 2 < ../corpus.txt > ../cooccurrence.bin', shell=True)"
   ]
  },
  {
   "cell_type": "markdown",
   "id": "b20894e5",
   "metadata": {},
   "source": [
    "shuffle co-occurrence matrix"
   ]
  },
  {
   "cell_type": "code",
   "execution_count": 58,
   "id": "f307b6b2",
   "metadata": {},
   "outputs": [
    {
     "name": "stderr",
     "output_type": "stream",
     "text": [
      "Using random seed 1740615843\n",
      "SHUFFLING COOCCURRENCES\n",
      "array size: 127506841\n",
      "Shuffling by chunks: processed 0 lines.\u001b[22Gprocessed 1762742 lines.\n",
      "Wrote 1 temporary file(s).\n",
      "Merging temp files: processed 0 lines.\u001b[31G1762742 lines.\u001b[0GMerging temp files: processed 1762742 lines.\n",
      "\n"
     ]
    },
    {
     "data": {
      "text/plain": [
       "CompletedProcess(args='build/shuffle -verbose 2 < ../cooccurrence.bin > ../cooccurrence.shuf.bin', returncode=0)"
      ]
     },
     "execution_count": 58,
     "metadata": {},
     "output_type": "execute_result"
    }
   ],
   "source": [
    "subprocess.run('build/shuffle -verbose 2 < ../cooccurrence.bin > ../cooccurrence.shuf.bin', shell=True)"
   ]
  },
  {
   "cell_type": "markdown",
   "id": "684310a7",
   "metadata": {},
   "source": [
    "train the model"
   ]
  },
  {
   "cell_type": "code",
   "execution_count": 59,
   "id": "5497eae9",
   "metadata": {},
   "outputs": [
    {
     "name": "stderr",
     "output_type": "stream",
     "text": [
      "TRAINING MODEL\n",
      "Read 1762742 lines.\n",
      "Initializing parameters...Using random seed 1740615845\n",
      "done.\n",
      "vector size: 100\n",
      "vocab size: 6897\n",
      "x_max: 10.000000\n",
      "alpha: 0.750000\n",
      "02/27/25 - 01:24.10AM, iter: 001, cost: 0.062950\n",
      "02/27/25 - 01:24.13AM, iter: 002, cost: 0.046853\n",
      "02/27/25 - 01:24.17AM, iter: 003, cost: 0.042858\n",
      "02/27/25 - 01:24.19AM, iter: 004, cost: 0.040662\n",
      "02/27/25 - 01:24.22AM, iter: 005, cost: 0.038793\n",
      "02/27/25 - 01:24.25AM, iter: 006, cost: 0.036499\n",
      "02/27/25 - 01:24.29AM, iter: 007, cost: 0.034098\n",
      "02/27/25 - 01:24.32AM, iter: 008, cost: 0.031935\n",
      "02/27/25 - 01:24.36AM, iter: 009, cost: 0.029918\n",
      "02/27/25 - 01:24.39AM, iter: 010, cost: 0.028069\n",
      "02/27/25 - 01:24.43AM, iter: 011, cost: 0.026435\n",
      "02/27/25 - 01:24.46AM, iter: 012, cost: 0.024989\n",
      "02/27/25 - 01:24.49AM, iter: 013, cost: 0.023702\n",
      "02/27/25 - 01:24.53AM, iter: 014, cost: 0.022517\n",
      "02/27/25 - 01:24.56AM, iter: 015, cost: 0.021503\n",
      "02/27/25 - 01:24.59AM, iter: 016, cost: 0.020601\n",
      "02/27/25 - 01:25.02AM, iter: 017, cost: 0.019772\n",
      "02/27/25 - 01:25.05AM, iter: 018, cost: 0.019045\n",
      "02/27/25 - 01:25.08AM, iter: 019, cost: 0.018395\n",
      "02/27/25 - 01:25.11AM, iter: 020, cost: 0.017764\n",
      "02/27/25 - 01:25.14AM, iter: 021, cost: 0.017194\n",
      "02/27/25 - 01:25.17AM, iter: 022, cost: 0.016695\n",
      "02/27/25 - 01:25.19AM, iter: 023, cost: 0.016218\n",
      "02/27/25 - 01:25.22AM, iter: 024, cost: 0.015726\n",
      "02/27/25 - 01:25.25AM, iter: 025, cost: 0.015285\n",
      "02/27/25 - 01:25.27AM, iter: 026, cost: 0.014916\n",
      "02/27/25 - 01:25.29AM, iter: 027, cost: 0.014561\n",
      "02/27/25 - 01:25.31AM, iter: 028, cost: 0.014220\n",
      "02/27/25 - 01:25.34AM, iter: 029, cost: 0.013897\n",
      "02/27/25 - 01:25.36AM, iter: 030, cost: 0.013621\n",
      "02/27/25 - 01:25.38AM, iter: 031, cost: 0.013362\n",
      "02/27/25 - 01:25.40AM, iter: 032, cost: 0.013084\n",
      "02/27/25 - 01:25.43AM, iter: 033, cost: 0.012858\n",
      "02/27/25 - 01:25.45AM, iter: 034, cost: 0.012640\n",
      "02/27/25 - 01:25.48AM, iter: 035, cost: 0.012427\n",
      "02/27/25 - 01:25.51AM, iter: 036, cost: 0.012227\n",
      "02/27/25 - 01:25.54AM, iter: 037, cost: 0.012032\n",
      "02/27/25 - 01:25.58AM, iter: 038, cost: 0.011839\n",
      "02/27/25 - 01:26.01AM, iter: 039, cost: 0.011672\n",
      "02/27/25 - 01:26.03AM, iter: 040, cost: 0.011494\n",
      "02/27/25 - 01:26.06AM, iter: 041, cost: 0.011332\n",
      "02/27/25 - 01:26.09AM, iter: 042, cost: 0.011177\n",
      "02/27/25 - 01:26.11AM, iter: 043, cost: 0.011055\n",
      "02/27/25 - 01:26.14AM, iter: 044, cost: 0.010906\n",
      "02/27/25 - 01:26.16AM, iter: 045, cost: 0.010788\n",
      "02/27/25 - 01:26.19AM, iter: 046, cost: 0.010668\n",
      "02/27/25 - 01:26.21AM, iter: 047, cost: 0.010543\n",
      "02/27/25 - 01:26.24AM, iter: 048, cost: 0.010430\n",
      "02/27/25 - 01:26.27AM, iter: 049, cost: 0.010336\n",
      "02/27/25 - 01:26.29AM, iter: 050, cost: 0.010232\n"
     ]
    },
    {
     "data": {
      "text/plain": [
       "CompletedProcess(args='build/glove  -save-file ../vectors -threads 4 -input-file ../cooccurrence.shuf.bin -x-max 10 -iter 50 -vector-size 100 -binary 2 -vocab-file ../vocab.txt -verbose 2', returncode=0)"
      ]
     },
     "execution_count": 59,
     "metadata": {},
     "output_type": "execute_result"
    }
   ],
   "source": [
    "subprocess.run('build/glove  -save-file ../vectors -threads 4 -input-file ../cooccurrence.shuf.bin -x-max 10 -iter 50 -vector-size 100 -binary 2 -vocab-file ../vocab.txt -verbose 2', shell=True)"
   ]
  },
  {
   "cell_type": "markdown",
   "id": "e25485fe",
   "metadata": {},
   "source": [
    "use the trained model"
   ]
  },
  {
   "cell_type": "code",
   "execution_count": 68,
   "id": "b1f713b0",
   "metadata": {},
   "outputs": [
    {
     "name": "stdout",
     "output_type": "stream",
     "text": [
      "/home/mina/projects/NLP_labs/Tp2\n"
     ]
    }
   ],
   "source": [
    "cd .."
   ]
  },
  {
   "cell_type": "code",
   "execution_count": 69,
   "id": "52ef8b6c",
   "metadata": {},
   "outputs": [
    {
     "name": "stdout",
     "output_type": "stream",
     "text": [
      " cooccurrence.bin        \u001b[0m\u001b[01;34mGloVe\u001b[0m/            skip-gram.ipynb   vectors.bin\n",
      " cooccurrence.shuf.bin   glove.ipynb       spooky.csv        vectors.txt\n",
      " corpus.txt              rapport_tp2.odt  'TP02 2025.pdf'    vocab.txt\n",
      " fastText.ipynb          rapport_tp2.pdf   tp2.ipynb\n"
     ]
    }
   ],
   "source": [
    "ls"
   ]
  },
  {
   "cell_type": "code",
   "execution_count": 70,
   "id": "56726450",
   "metadata": {},
   "outputs": [
    {
     "name": "stderr",
     "output_type": "stream",
     "text": [
      "/tmp/ipykernel_14379/3950756513.py:4: DeprecationWarning: Call to deprecated `glove2word2vec` (KeyedVectors.load_word2vec_format(.., binary=False, no_header=True) loads GLoVE text vectors.).\n",
      "  glove2word2vec(glove_file, word2vec_file)\n"
     ]
    },
    {
     "data": {
      "text/plain": [
       "(6898, 100)"
      ]
     },
     "execution_count": 70,
     "metadata": {},
     "output_type": "execute_result"
    }
   ],
   "source": [
    "glove_file = \"vectors.txt\"\n",
    "word2vec_file = \"vectors.word2vec\"\n",
    "\n",
    "glove2word2vec(glove_file, word2vec_file)"
   ]
  },
  {
   "cell_type": "markdown",
   "id": "d6e88e69",
   "metadata": {},
   "source": [
    "save the model"
   ]
  },
  {
   "cell_type": "code",
   "execution_count": 74,
   "id": "d697868c",
   "metadata": {},
   "outputs": [],
   "source": [
    "model = KeyedVectors.load_word2vec_format(word2vec_file, binary=False)\n",
    "\n",
    "model.save(\"glove_model.kv\")"
   ]
  },
  {
   "cell_type": "markdown",
   "id": "7b20e9b6",
   "metadata": {},
   "source": [
    "apply glove"
   ]
  },
  {
   "cell_type": "code",
   "execution_count": 75,
   "id": "5ad2c4f9",
   "metadata": {},
   "outputs": [],
   "source": [
    "def text_to_glove_vectors(text_data, model, vector_size=100):\n",
    "    vectors = []\n",
    "    for sentence in text_data:\n",
    "        words = sentence.split()\n",
    "        word_vectors = [model[word] for word in words if word in model]\n",
    "        if word_vectors:\n",
    "            sentence_vector = np.mean(word_vectors, axis=0)\n",
    "        else:\n",
    "            sentence_vector = np.zeros(vector_size) \n",
    "        vectors.append(sentence_vector)\n",
    "    return np.array(vectors)"
   ]
  },
  {
   "cell_type": "code",
   "execution_count": 76,
   "id": "70a6bbdf",
   "metadata": {},
   "outputs": [],
   "source": [
    "x_train_glove = text_to_glove_vectors(x_train, model)\n",
    "x_test_glove = text_to_glove_vectors(x_test, model)"
   ]
  },
  {
   "cell_type": "markdown",
   "id": "b781c187",
   "metadata": {},
   "source": [
    "the MPLClassifier"
   ]
  },
  {
   "cell_type": "code",
   "execution_count": 73,
   "id": "4eae33fa",
   "metadata": {},
   "outputs": [],
   "source": [
    "def train_and_evaluate(X_train, X_test, y_train, y_test):\n",
    "    mlp = MLPClassifier(hidden_layer_sizes=(20,), max_iter=20, random_state=0)\n",
    "    mlp.fit(X_train, y_train)\n",
    "    \n",
    "    y_train_pred = mlp.predict(X_train)\n",
    "    y_test_pred = mlp.predict(X_test)\n",
    "    \n",
    "    print(\"train classification report:\")\n",
    "    print(classification_report(y_train, y_train_pred))\n",
    "    print(\"test classification report:\")\n",
    "    print(classification_report(y_test, y_test_pred))\n",
    "    \n",
    "    start_time = time.time()\n",
    "    mlp.predict(X_test)\n",
    "    print(f\"prediction time: {time.time() - start_time:.5f} seconds\")"
   ]
  },
  {
   "cell_type": "code",
   "execution_count": 77,
   "id": "8b6a1cbd",
   "metadata": {},
   "outputs": [
    {
     "name": "stdout",
     "output_type": "stream",
     "text": [
      "train classification report:\n",
      "              precision    recall  f1-score   support\n",
      "\n",
      "           0       0.70      0.69      0.70      5530\n",
      "           1       0.64      0.65      0.64      3944\n",
      "           2       0.67      0.67      0.67      4231\n",
      "\n",
      "    accuracy                           0.67     13705\n",
      "   macro avg       0.67      0.67      0.67     13705\n",
      "weighted avg       0.67      0.67      0.67     13705\n",
      "\n",
      "test classification report:\n",
      "              precision    recall  f1-score   support\n",
      "\n",
      "           0       0.68      0.66      0.67      2370\n",
      "           1       0.63      0.63      0.63      1691\n",
      "           2       0.64      0.67      0.66      1813\n",
      "\n",
      "    accuracy                           0.65      5874\n",
      "   macro avg       0.65      0.65      0.65      5874\n",
      "weighted avg       0.65      0.65      0.65      5874\n",
      "\n",
      "prediction time: 0.00474 seconds\n"
     ]
    },
    {
     "name": "stderr",
     "output_type": "stream",
     "text": [
      "/home/mina/anaconda3/lib/python3.12/site-packages/sklearn/neural_network/_multilayer_perceptron.py:690: ConvergenceWarning: Stochastic Optimizer: Maximum iterations (20) reached and the optimization hasn't converged yet.\n",
      "  warnings.warn(\n"
     ]
    }
   ],
   "source": [
    "train_and_evaluate(x_train_glove, x_test_glove, y_train, y_test)"
   ]
  }
 ],
 "metadata": {
  "kernelspec": {
   "display_name": "base",
   "language": "python",
   "name": "python3"
  },
  "language_info": {
   "codemirror_mode": {
    "name": "ipython",
    "version": 3
   },
   "file_extension": ".py",
   "mimetype": "text/x-python",
   "name": "python",
   "nbconvert_exporter": "python",
   "pygments_lexer": "ipython3",
   "version": "3.12.4"
  }
 },
 "nbformat": 4,
 "nbformat_minor": 5
}
